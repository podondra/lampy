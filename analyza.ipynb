{
 "cells": [
  {
   "cell_type": "markdown",
   "metadata": {},
   "source": [
    "# Detekce anomálií v datech o znečištění ovzduší\n",
    "\n",
    "TODO list:\n",
    "\n",
    "- napsat úvodu,\n",
    "- napsat detailní Jupyter notebook (části, které se počítají dlouho přenést do scriptů,\n",
    "    např. načítat externě natrénované LSTM)."
   ]
  },
  {
   "cell_type": "code",
   "execution_count": 1,
   "metadata": {},
   "outputs": [],
   "source": [
    "import matplotlib.pyplot as plt\n",
    "import numpy as np\n",
    "import pandas as pd\n",
    "from sklearn import linear_model\n",
    "from sklearn.preprocessing import StandardScaler\n",
    "\n",
    "\n",
    "from lampy import data\n",
    "from lampy import metrics\n",
    "from lampy.lstm import LSTM"
   ]
  },
  {
   "cell_type": "markdown",
   "metadata": {},
   "source": [
    "## Explorace\n",
    "\n",
    "TODO list:\n",
    "\n",
    "- vizualizace: https://pandas.pydata.org/pandas-docs/stable/user_guide/visualization.html.\n",
    "\n",
    "DONE list:\n",
    "\n",
    "- podívat se, co má více data, jestli je to PM<sub>2.5</sub> nebo PM<sub>10</sub>: stejně.\n",
    "\n",
    "### Datové zdroje\n",
    "\n",
    "V [katalogu datové platformy Golemio](https://golemio.cz/cs/node/622) jsou k dispozici dva datové soubory:\n",
    "jeden za druhé pololetí roku 2018 a druhý za zatím uplynulou část prvního pololetí roku 2019."
   ]
  },
  {
   "cell_type": "code",
   "execution_count": 2,
   "metadata": {},
   "outputs": [
    {
     "name": "stdout",
     "output_type": "stream",
     "text": [
      "<class 'pandas.core.frame.DataFrame'>\n",
      "Index: 473529 entries, 24a5mhj5yiqqhmtxzvsztbwxoduhdzyd to y7e4onsytkb3ydonflz5kcbcigkh5ulo\n",
      "Data columns (total 8 columns):\n",
      "starttimestamp              473529 non-null datetime64[ns, UTC]\n",
      "geocoordinates_latitude     473505 non-null float64\n",
      "geocoordinates_longitude    473505 non-null float64\n",
      "o3                          407537 non-null float64\n",
      "pm2p5                       129807 non-null float64\n",
      "no2                         407537 non-null float64\n",
      "so2                         407537 non-null float64\n",
      "pm10                        129807 non-null float64\n",
      "dtypes: datetime64[ns, UTC](1), float64(7)\n",
      "memory usage: 32.5+ MB\n"
     ]
    }
   ],
   "source": [
    "data_file_2018 = 'data/636f6a2e-3a48-4801-afce-05c864adc60e-lampy_2019.csv'\n",
    "data_2018 = pd.read_csv(data_file_2018, index_col='sid', sep=';', parse_dates=['starttimestamp'])\n",
    "data_2018.info()"
   ]
  },
  {
   "cell_type": "code",
   "execution_count": 3,
   "metadata": {},
   "outputs": [
    {
     "name": "stdout",
     "output_type": "stream",
     "text": [
      "<class 'pandas.core.frame.DataFrame'>\n",
      "Index: 226672 entries, 6aivodbkkk3xlwbjlkerclrnk4gtfy3x to oowrrh4zfxs66zdreivyrri2ribhexgc\n",
      "Data columns (total 8 columns):\n",
      "starttimestamp              226672 non-null datetime64[ns, UTC]\n",
      "geocoordinates_latitude     226672 non-null float64\n",
      "geocoordinates_longitude    226672 non-null float64\n",
      "o3                          196871 non-null float64\n",
      "pm2p5                       62518 non-null float64\n",
      "no2                         196871 non-null float64\n",
      "so2                         196871 non-null float64\n",
      "pm10                        62518 non-null float64\n",
      "dtypes: datetime64[ns, UTC](1), float64(7)\n",
      "memory usage: 15.6+ MB\n"
     ]
    }
   ],
   "source": [
    "data_file_2019 = 'data/2e6bbd16-8d1c-4efa-b0f0-06a74f40d8d3-lampysensory-2019-1pololeti.csv'\n",
    "data_2019 = pd.read_csv(data_file_2019, index_col='sid', parse_dates=['starttimestamp'])\n",
    "data_2019.info()"
   ]
  },
  {
   "cell_type": "markdown",
   "metadata": {},
   "source": [
    "### Sloupce\n",
    "\n",
    "Datová sada by měla obsahovat odečty z 43 senzorů, které jsou rozmístěny na vybraných lampách.\n",
    "\n",
    "- `sid` (string): identifikátor stanice;\n",
    "- `starttimestamp` (datetime): datum a čas měření,\n",
    "- `o3` (integer with precision): atribut O<sub>3</sub> (ozon, ppb),\n",
    "- `no2` (integer with precision): atribut NO<sub>2</sub> (oxid dusičitý, ppb),\n",
    "- `so2` (integer with precision): atribut SO<sub>2</sub> (oxid siřičitý, ppb),\n",
    "- `pm10` (integer with precision): atribut jemné částice PM<sub>10</sub> (µg m<sup>-3</sup>),\n",
    "- `pm2p5` (integer with precision): atribut jemné částice PM<sub>2,5</sub> (µg m<sup>-3</sup>),\n",
    "- `geocoordinates_latitude` (integer with precision): zeměpisná šířka stanice,\n",
    "- `geocoordinates_longitude` (integer with precision): zeměpisná délka stanice,\n",
    "\n",
    "kde ppb znamená [parts per bilion](https://en.wikipedia.org/wiki/Parts-per_notation)."
   ]
  },
  {
   "cell_type": "code",
   "execution_count": 4,
   "metadata": {},
   "outputs": [
    {
     "name": "stdout",
     "output_type": "stream",
     "text": [
      "počet sensorů: 22\n"
     ]
    }
   ],
   "source": [
    "sids = data_2018.index.unique()\n",
    "print('počet sensorů:', len(sids))"
   ]
  },
  {
   "cell_type": "code",
   "execution_count": 5,
   "metadata": {},
   "outputs": [
    {
     "data": {
      "text/plain": [
       "y7e4onsytkb3ydonflz5kcbcigkh5ulo    32872\n",
       "heql54pdiq6xb6j74qdpnlovm77jaify    24548\n",
       "6czebgzn24hwd3vpklvuphomcfcwpqgx    24100\n",
       "xct4lqv4q3ht3a7peubhfnyyhbsnno7g    17447\n",
       "bxjhuifodo6nf7bnstd55g3mzw6wfv7c    17078\n",
       "gdyaoaed7gnarg6kqk2o6bmsjrw6wlk5    13762\n",
       "Name: sid, dtype: int64"
      ]
     },
     "execution_count": 5,
     "metadata": {},
     "output_type": "execute_result"
    }
   ],
   "source": [
    "target = 'pm10'\n",
    "value_counts = data_2018[target].dropna().index.value_counts()\n",
    "value_counts"
   ]
  },
  {
   "cell_type": "code",
   "execution_count": 6,
   "metadata": {},
   "outputs": [
    {
     "data": {
      "text/plain": [
       "'y7e4onsytkb3ydonflz5kcbcigkh5ulo'"
      ]
     },
     "execution_count": 6,
     "metadata": {},
     "output_type": "execute_result"
    }
   ],
   "source": [
    "sid = value_counts.index[0]\n",
    "sid"
   ]
  },
  {
   "cell_type": "markdown",
   "metadata": {},
   "source": [
    "### Trénovací a testovací data"
   ]
  },
  {
   "cell_type": "code",
   "execution_count": 7,
   "metadata": {},
   "outputs": [],
   "source": [
    "features = ['o3', 'pm2p5', 'no2', 'so2', 'pm10']"
   ]
  },
  {
   "cell_type": "code",
   "execution_count": 8,
   "metadata": {},
   "outputs": [
    {
     "name": "stdout",
     "output_type": "stream",
     "text": [
      "<class 'pandas.core.frame.DataFrame'>\n",
      "DatetimeIndex: 32872 entries, 2018-07-05 11:52:18+00:00 to 2018-12-31 23:53:11+00:00\n",
      "Data columns (total 5 columns):\n",
      "o3       32872 non-null float64\n",
      "pm2p5    32872 non-null float64\n",
      "no2      32872 non-null float64\n",
      "so2      32872 non-null float64\n",
      "pm10     32872 non-null float64\n",
      "dtypes: float64(5)\n",
      "memory usage: 1.5 MB\n"
     ]
    }
   ],
   "source": [
    "train_data = data_2018.loc[sid].set_index('starttimestamp')[features].sort_index()\n",
    "train_data.info()"
   ]
  },
  {
   "cell_type": "code",
   "execution_count": 9,
   "metadata": {},
   "outputs": [
    {
     "name": "stdout",
     "output_type": "stream",
     "text": [
      "<class 'pandas.core.frame.DataFrame'>\n",
      "DatetimeIndex: 12709 entries, 2019-01-01 00:03:11+00:00 to 2019-04-04 15:23:07+00:00\n",
      "Data columns (total 5 columns):\n",
      "o3       12709 non-null float64\n",
      "pm2p5    12709 non-null float64\n",
      "no2      12709 non-null float64\n",
      "so2      12709 non-null float64\n",
      "pm10     12709 non-null float64\n",
      "dtypes: float64(5)\n",
      "memory usage: 595.7 KB\n"
     ]
    }
   ],
   "source": [
    "test_data = data_2019.loc[sid].set_index('starttimestamp')[features].sort_index()\n",
    "test_data.info()"
   ]
  },
  {
   "cell_type": "code",
   "execution_count": 10,
   "metadata": {},
   "outputs": [
    {
     "name": "stdout",
     "output_type": "stream",
     "text": [
      "celkem záznamů: 700201\n",
      "trénovacích záznamů: 473529 (67.6%)\n",
      "testovacích záznamů: 226672 (32.4%)\n"
     ]
    }
   ],
   "source": [
    "n_train = data_2018.shape[0]\n",
    "n_test = data_2019.shape[0]\n",
    "n_data = n_train + n_test\n",
    "print('celkem záznamů:', n_data)\n",
    "print('trénovacích záznamů: {} ({:.1f}%)'.format(n_train, 100 * n_train / n_data))\n",
    "print('testovacích záznamů: {} ({:.1f}%)'.format(n_test, 100 * n_test / n_data))"
   ]
  },
  {
   "cell_type": "markdown",
   "metadata": {},
   "source": [
    "### Vizualizace"
   ]
  },
  {
   "cell_type": "code",
   "execution_count": 11,
   "metadata": {},
   "outputs": [
    {
     "data": {
      "text/plain": [
       "<matplotlib.axes._subplots.AxesSubplot at 0x7f70065a6908>"
      ]
     },
     "execution_count": 11,
     "metadata": {},
     "output_type": "execute_result"
    },
    {
     "data": {
      "image/png": "[encoded data removed]",
      "text/plain": [
       "<Figure size 432x288 with 1 Axes>"
      ]
     },
     "metadata": {
      "needs_background": "light"
     },
     "output_type": "display_data"
    }
   ],
   "source": [
    "train_data.plot()"
   ]
  },
  {
   "cell_type": "code",
   "execution_count": 12,
   "metadata": {},
   "outputs": [
    {
     "data": {
      "text/plain": [
       "<matplotlib.axes._subplots.AxesSubplot at 0x7f7002237cc0>"
      ]
     },
     "execution_count": 12,
     "metadata": {},
     "output_type": "execute_result"
    },
    {
     "data": {
      "image/png": "[encoded data removed]",
      "text/plain": [
       "<Figure size 432x288 with 1 Axes>"
      ]
     },
     "metadata": {
      "needs_background": "light"
     },
     "output_type": "display_data"
    }
   ],
   "source": [
    "test_data.plot()"
   ]
  },
  {
   "cell_type": "markdown",
   "metadata": {},
   "source": [
    "### Rozdíl časů odečtů\n",
    "\n",
    "Vyčítací frekvence 15 minut z brány do platformy, čtení na bráně častější."
   ]
  },
  {
   "cell_type": "code",
   "execution_count": 13,
   "metadata": {},
   "outputs": [
    {
     "data": {
      "text/plain": [
       "(Timedelta('0 days 00:07:51.809588'), Timedelta('0 days 00:18:20.667901'))"
      ]
     },
     "execution_count": 13,
     "metadata": {},
     "output_type": "execute_result"
    }
   ],
   "source": [
    "time_delta = pd.Series(train_data.index[1:] - train_data.index[:-1])\n",
    "time_delta_mean = time_delta.mean()\n",
    "time_delta_std = time_delta.std()\n",
    "time_delta_mean, time_delta_std"
   ]
  },
  {
   "cell_type": "code",
   "execution_count": 14,
   "metadata": {},
   "outputs": [
    {
     "data": {
      "image/png": "[encoded data removed]",
      "text/plain": [
       "<Figure size 432x288 with 1 Axes>"
      ]
     },
     "metadata": {
      "needs_background": "light"
     },
     "output_type": "display_data"
    }
   ],
   "source": [
    "ax = time_delta[time_delta < time_delta_mean + 2 * time_delta_std].dt.total_seconds().hist(bins=32)\n",
    "ax.set_xlabel('seconds');"
   ]
  },
  {
   "cell_type": "markdown",
   "metadata": {},
   "source": [
    "### Log–log plot"
   ]
  },
  {
   "cell_type": "code",
   "execution_count": 15,
   "metadata": {},
   "outputs": [
    {
     "data": {
      "image/png": "[encoded data removed]",
      "text/plain": [
       "<Figure size 432x288 with 3 Axes>"
      ]
     },
     "metadata": {
      "needs_background": "light"
     },
     "output_type": "display_data"
    }
   ],
   "source": [
    "pm10 = train_data['pm10'].values\n",
    "fig, axs = plt.subplots(ncols=3)\n",
    "axs[0].hist(pm10)\n",
    "bins = np.logspace(np.log10(pm10.min()), np.log10(pm10.max()), num=11)\n",
    "axs[1].hist(pm10, bins)\n",
    "axs[1].set_xscale('log')\n",
    "axs[2].hist(pm10, bins, log=True)\n",
    "axs[2].set_xscale('log')\n",
    "axs[0].set_ylabel('count')\n",
    "for ax in axs:\n",
    "    ax.set_xlabel('$\\mathrm{PM}_{10}$')\n",
    "fig.tight_layout()"
   ]
  },
  {
   "cell_type": "markdown",
   "metadata": {},
   "source": [
    "## Předzpracování\n",
    "\n",
    "TODO list:\n",
    "\n",
    "- jak a proč jsem předzpracovávál data?"
   ]
  },
  {
   "cell_type": "code",
   "execution_count": 16,
   "metadata": {},
   "outputs": [],
   "source": [
    "resampled_train_data = data.resample_data(train_data, period='15T')\n",
    "X, y = data.create_dataset(resampled_train_data)\n",
    "\n",
    "X_tr_raw, X_val_raw, y_tr_raw, y_val_raw = data.train_validation_split(X, y)\n",
    "\n",
    "X_scaler = StandardScaler()\n",
    "y_scaler = StandardScaler()\n",
    "\n",
    "X_tr = X_scaler.fit_transform(X_tr_raw)\n",
    "y_tr = y_scaler.fit_transform(y_tr_raw)\n",
    "\n",
    "X_val = X_scaler.transform(X_val_raw)\n",
    "y_val = y_scaler.transform(y_val_raw)"
   ]
  },
  {
   "cell_type": "code",
   "execution_count": 17,
   "metadata": {},
   "outputs": [
    {
     "data": {
      "image/png": "[encoded data removed]",
      "text/plain": [
       "<Figure size 432x288 with 2 Axes>"
      ]
     },
     "metadata": {
      "needs_background": "light"
     },
     "output_type": "display_data"
    }
   ],
   "source": [
    "fig, (ax1, ax2) = plt.subplots(ncols=2, sharey=True)\n",
    "ax1.plot(y_tr)\n",
    "ax1.set_ylabel('$\\mathrm{PM}_{10}$')\n",
    "ax1.set_title('trénovací množina')\n",
    "ax2.plot(y_val)\n",
    "ax2.set_title('validační množina');"
   ]
  },
  {
   "cell_type": "markdown",
   "metadata": {},
   "source": [
    "## Selekce příznaků\n",
    "\n",
    "TODO list:\n",
    "\n",
    "- pomocí LASSO lineární regrese ukázat, že stačí pouze zvolený příznak."
   ]
  },
  {
   "cell_type": "code",
   "execution_count": 18,
   "metadata": {},
   "outputs": [
    {
     "data": {
      "text/html": [
       "<div>\n",
       "<style scoped>\n",
       "    .dataframe tbody tr th:only-of-type {\n",
       "        vertical-align: middle;\n",
       "    }\n",
       "\n",
       "    .dataframe tbody tr th {\n",
       "        vertical-align: top;\n",
       "    }\n",
       "\n",
       "    .dataframe thead th {\n",
       "        text-align: right;\n",
       "    }\n",
       "</style>\n",
       "<table border=\"1\" class=\"dataframe\">\n",
       "  <thead>\n",
       "    <tr style=\"text-align: right;\">\n",
       "      <th></th>\n",
       "      <th>RMSE</th>\n",
       "      <th>koeficient o3</th>\n",
       "      <th>koeficient pm2p5</th>\n",
       "      <th>koeficient no2</th>\n",
       "      <th>koeficient so2</th>\n",
       "      <th>koeficient pm10</th>\n",
       "    </tr>\n",
       "    <tr>\n",
       "      <th>alpha</th>\n",
       "      <th></th>\n",
       "      <th></th>\n",
       "      <th></th>\n",
       "      <th></th>\n",
       "      <th></th>\n",
       "      <th></th>\n",
       "    </tr>\n",
       "  </thead>\n",
       "  <tbody>\n",
       "    <tr>\n",
       "      <th>1.000000e-10</th>\n",
       "      <td>0.638710</td>\n",
       "      <td>-0.016698</td>\n",
       "      <td>0.001962</td>\n",
       "      <td>0.019413</td>\n",
       "      <td>0.011029</td>\n",
       "      <td>0.947370</td>\n",
       "    </tr>\n",
       "    <tr>\n",
       "      <th>3.162278e-10</th>\n",
       "      <td>0.638710</td>\n",
       "      <td>-0.016698</td>\n",
       "      <td>0.001962</td>\n",
       "      <td>0.019413</td>\n",
       "      <td>0.011029</td>\n",
       "      <td>0.947370</td>\n",
       "    </tr>\n",
       "    <tr>\n",
       "      <th>1.000000e-09</th>\n",
       "      <td>0.638710</td>\n",
       "      <td>-0.016698</td>\n",
       "      <td>0.001962</td>\n",
       "      <td>0.019413</td>\n",
       "      <td>0.011029</td>\n",
       "      <td>0.947370</td>\n",
       "    </tr>\n",
       "    <tr>\n",
       "      <th>3.162278e-09</th>\n",
       "      <td>0.638710</td>\n",
       "      <td>-0.016698</td>\n",
       "      <td>0.001962</td>\n",
       "      <td>0.019413</td>\n",
       "      <td>0.011029</td>\n",
       "      <td>0.947370</td>\n",
       "    </tr>\n",
       "    <tr>\n",
       "      <th>1.000000e-08</th>\n",
       "      <td>0.638710</td>\n",
       "      <td>-0.016698</td>\n",
       "      <td>0.001962</td>\n",
       "      <td>0.019413</td>\n",
       "      <td>0.011029</td>\n",
       "      <td>0.947370</td>\n",
       "    </tr>\n",
       "    <tr>\n",
       "      <th>3.162278e-08</th>\n",
       "      <td>0.638710</td>\n",
       "      <td>-0.016698</td>\n",
       "      <td>0.001962</td>\n",
       "      <td>0.019413</td>\n",
       "      <td>0.011029</td>\n",
       "      <td>0.947370</td>\n",
       "    </tr>\n",
       "    <tr>\n",
       "      <th>1.000000e-07</th>\n",
       "      <td>0.638710</td>\n",
       "      <td>-0.016698</td>\n",
       "      <td>0.001962</td>\n",
       "      <td>0.019413</td>\n",
       "      <td>0.011029</td>\n",
       "      <td>0.947370</td>\n",
       "    </tr>\n",
       "    <tr>\n",
       "      <th>3.162278e-07</th>\n",
       "      <td>0.638710</td>\n",
       "      <td>-0.016697</td>\n",
       "      <td>0.001962</td>\n",
       "      <td>0.019412</td>\n",
       "      <td>0.011029</td>\n",
       "      <td>0.947370</td>\n",
       "    </tr>\n",
       "    <tr>\n",
       "      <th>1.000000e-06</th>\n",
       "      <td>0.638710</td>\n",
       "      <td>-0.016697</td>\n",
       "      <td>0.001963</td>\n",
       "      <td>0.019412</td>\n",
       "      <td>0.011028</td>\n",
       "      <td>0.947369</td>\n",
       "    </tr>\n",
       "    <tr>\n",
       "      <th>3.162278e-06</th>\n",
       "      <td>0.638710</td>\n",
       "      <td>-0.016694</td>\n",
       "      <td>0.001964</td>\n",
       "      <td>0.019410</td>\n",
       "      <td>0.011024</td>\n",
       "      <td>0.947366</td>\n",
       "    </tr>\n",
       "    <tr>\n",
       "      <th>1.000000e-05</th>\n",
       "      <td>0.638709</td>\n",
       "      <td>-0.016686</td>\n",
       "      <td>0.001969</td>\n",
       "      <td>0.019403</td>\n",
       "      <td>0.011013</td>\n",
       "      <td>0.947357</td>\n",
       "    </tr>\n",
       "    <tr>\n",
       "      <th>3.162278e-05</th>\n",
       "      <td>0.638707</td>\n",
       "      <td>-0.016662</td>\n",
       "      <td>0.001983</td>\n",
       "      <td>0.019381</td>\n",
       "      <td>0.010976</td>\n",
       "      <td>0.947330</td>\n",
       "    </tr>\n",
       "    <tr>\n",
       "      <th>1.000000e-04</th>\n",
       "      <td>0.638699</td>\n",
       "      <td>-0.016585</td>\n",
       "      <td>0.002026</td>\n",
       "      <td>0.019312</td>\n",
       "      <td>0.010861</td>\n",
       "      <td>0.947247</td>\n",
       "    </tr>\n",
       "    <tr>\n",
       "      <th>3.162278e-04</th>\n",
       "      <td>0.638678</td>\n",
       "      <td>-0.016343</td>\n",
       "      <td>0.002153</td>\n",
       "      <td>0.019093</td>\n",
       "      <td>0.010497</td>\n",
       "      <td>0.946990</td>\n",
       "    </tr>\n",
       "    <tr>\n",
       "      <th>1.000000e-03</th>\n",
       "      <td>0.638667</td>\n",
       "      <td>-0.015659</td>\n",
       "      <td>0.001987</td>\n",
       "      <td>0.018371</td>\n",
       "      <td>0.009338</td>\n",
       "      <td>0.946667</td>\n",
       "    </tr>\n",
       "    <tr>\n",
       "      <th>3.162278e-03</th>\n",
       "      <td>0.638673</td>\n",
       "      <td>-0.013494</td>\n",
       "      <td>0.001463</td>\n",
       "      <td>0.016090</td>\n",
       "      <td>0.005672</td>\n",
       "      <td>0.945644</td>\n",
       "    </tr>\n",
       "    <tr>\n",
       "      <th>1.000000e-02</th>\n",
       "      <td>0.638769</td>\n",
       "      <td>-0.007466</td>\n",
       "      <td>0.000663</td>\n",
       "      <td>0.010478</td>\n",
       "      <td>0.000000</td>\n",
       "      <td>0.941891</td>\n",
       "    </tr>\n",
       "    <tr>\n",
       "      <th>3.162278e-02</th>\n",
       "      <td>0.639527</td>\n",
       "      <td>-0.000000</td>\n",
       "      <td>0.000000</td>\n",
       "      <td>0.000000</td>\n",
       "      <td>-0.000000</td>\n",
       "      <td>0.926438</td>\n",
       "    </tr>\n",
       "    <tr>\n",
       "      <th>1.000000e-01</th>\n",
       "      <td>0.656240</td>\n",
       "      <td>-0.000000</td>\n",
       "      <td>0.000000</td>\n",
       "      <td>0.000000</td>\n",
       "      <td>-0.000000</td>\n",
       "      <td>0.858061</td>\n",
       "    </tr>\n",
       "    <tr>\n",
       "      <th>3.162278e-01</th>\n",
       "      <td>0.842581</td>\n",
       "      <td>-0.000000</td>\n",
       "      <td>0.000000</td>\n",
       "      <td>0.000000</td>\n",
       "      <td>-0.000000</td>\n",
       "      <td>0.641833</td>\n",
       "    </tr>\n",
       "    <tr>\n",
       "      <th>1.000000e+00</th>\n",
       "      <td>1.850822</td>\n",
       "      <td>-0.000000</td>\n",
       "      <td>0.000000</td>\n",
       "      <td>0.000000</td>\n",
       "      <td>-0.000000</td>\n",
       "      <td>0.000000</td>\n",
       "    </tr>\n",
       "    <tr>\n",
       "      <th>3.162278e+00</th>\n",
       "      <td>1.850822</td>\n",
       "      <td>-0.000000</td>\n",
       "      <td>0.000000</td>\n",
       "      <td>0.000000</td>\n",
       "      <td>-0.000000</td>\n",
       "      <td>0.000000</td>\n",
       "    </tr>\n",
       "    <tr>\n",
       "      <th>1.000000e+01</th>\n",
       "      <td>1.850822</td>\n",
       "      <td>-0.000000</td>\n",
       "      <td>0.000000</td>\n",
       "      <td>0.000000</td>\n",
       "      <td>-0.000000</td>\n",
       "      <td>0.000000</td>\n",
       "    </tr>\n",
       "  </tbody>\n",
       "</table>\n",
       "</div>"
      ],
      "text/plain": [
       "                  RMSE  koeficient o3  koeficient pm2p5  koeficient no2  \\\n",
       "alpha                                                                     \n",
       "1.000000e-10  0.638710      -0.016698          0.001962        0.019413   \n",
       "3.162278e-10  0.638710      -0.016698          0.001962        0.019413   \n",
       "1.000000e-09  0.638710      -0.016698          0.001962        0.019413   \n",
       "3.162278e-09  0.638710      -0.016698          0.001962        0.019413   \n",
       "1.000000e-08  0.638710      -0.016698          0.001962        0.019413   \n",
       "3.162278e-08  0.638710      -0.016698          0.001962        0.019413   \n",
       "1.000000e-07  0.638710      -0.016698          0.001962        0.019413   \n",
       "3.162278e-07  0.638710      -0.016697          0.001962        0.019412   \n",
       "1.000000e-06  0.638710      -0.016697          0.001963        0.019412   \n",
       "3.162278e-06  0.638710      -0.016694          0.001964        0.019410   \n",
       "1.000000e-05  0.638709      -0.016686          0.001969        0.019403   \n",
       "3.162278e-05  0.638707      -0.016662          0.001983        0.019381   \n",
       "1.000000e-04  0.638699      -0.016585          0.002026        0.019312   \n",
       "3.162278e-04  0.638678      -0.016343          0.002153        0.019093   \n",
       "1.000000e-03  0.638667      -0.015659          0.001987        0.018371   \n",
       "3.162278e-03  0.638673      -0.013494          0.001463        0.016090   \n",
       "1.000000e-02  0.638769      -0.007466          0.000663        0.010478   \n",
       "3.162278e-02  0.639527      -0.000000          0.000000        0.000000   \n",
       "1.000000e-01  0.656240      -0.000000          0.000000        0.000000   \n",
       "3.162278e-01  0.842581      -0.000000          0.000000        0.000000   \n",
       "1.000000e+00  1.850822      -0.000000          0.000000        0.000000   \n",
       "3.162278e+00  1.850822      -0.000000          0.000000        0.000000   \n",
       "1.000000e+01  1.850822      -0.000000          0.000000        0.000000   \n",
       "\n",
       "              koeficient so2  koeficient pm10  \n",
       "alpha                                          \n",
       "1.000000e-10        0.011029         0.947370  \n",
       "3.162278e-10        0.011029         0.947370  \n",
       "1.000000e-09        0.011029         0.947370  \n",
       "3.162278e-09        0.011029         0.947370  \n",
       "1.000000e-08        0.011029         0.947370  \n",
       "3.162278e-08        0.011029         0.947370  \n",
       "1.000000e-07        0.011029         0.947370  \n",
       "3.162278e-07        0.011029         0.947370  \n",
       "1.000000e-06        0.011028         0.947369  \n",
       "3.162278e-06        0.011024         0.947366  \n",
       "1.000000e-05        0.011013         0.947357  \n",
       "3.162278e-05        0.010976         0.947330  \n",
       "1.000000e-04        0.010861         0.947247  \n",
       "3.162278e-04        0.010497         0.946990  \n",
       "1.000000e-03        0.009338         0.946667  \n",
       "3.162278e-03        0.005672         0.945644  \n",
       "1.000000e-02        0.000000         0.941891  \n",
       "3.162278e-02       -0.000000         0.926438  \n",
       "1.000000e-01       -0.000000         0.858061  \n",
       "3.162278e-01       -0.000000         0.641833  \n",
       "1.000000e+00       -0.000000         0.000000  \n",
       "3.162278e+00       -0.000000         0.000000  \n",
       "1.000000e+01       -0.000000         0.000000  "
      ]
     },
     "execution_count": 18,
     "metadata": {},
     "output_type": "execute_result"
    },
    {
     "data": {
      "image/png": "[encoded data removed]",
      "text/plain": [
       "<Figure size 432x288 with 1 Axes>"
      ]
     },
     "metadata": {
      "needs_background": "light"
     },
     "output_type": "display_data"
    },
    {
     "data": {
      "image/png": "[encoded data removed]",
      "text/plain": [
       "<Figure size 432x288 with 1 Axes>"
      ]
     },
     "metadata": {
      "needs_background": "light"
     },
     "output_type": "display_data"
    }
   ],
   "source": [
    "n_features = X_tr.shape[1]\n",
    "columns = ['RMSE'] + ['koeficient ' + feature for feature in features]\n",
    "\n",
    "n_alphas = 23\n",
    "alphas = np.logspace(-10, 1, n_alphas)\n",
    "lasso_stats = pd.DataFrame(index=alphas, columns=columns, dtype=np.float)\n",
    "lasso_stats.index.name = 'alpha'\n",
    "\n",
    "for alpha in alphas:\n",
    "    lasso = linear_model.Lasso(alpha=alpha)\n",
    "    lasso.fit(X_tr, y_tr)\n",
    "\n",
    "    y_pred = lasso.predict(X_val)\n",
    "    \n",
    "    lasso_rmse = metrics.rmse(y_val, y_pred)\n",
    "    lasso_stats.loc[alpha] = (lasso_rmse, *lasso.coef_)\n",
    "\n",
    "lasso_stats.plot(y='RMSE', logx=True, style='.--');\n",
    "lasso_stats.plot(y=columns[1:], logx=True, style='.--')\n",
    "lasso_stats"
   ]
  },
  {
   "cell_type": "markdown",
   "metadata": {},
   "source": [
    "## Porovnání modelů\n",
    "\n",
    "TODO list:\n",
    "\n",
    "- na validačním setu vybrat jeden z modelů pouze podle RMSE:\n",
    "    1. baseline,\n",
    "    2. lineární regrese,\n",
    "    3. lasso,\n",
    "    4. LSTM."
   ]
  },
  {
   "cell_type": "markdown",
   "metadata": {},
   "source": [
    "### Základní model (baseline)"
   ]
  },
  {
   "cell_type": "code",
   "execution_count": 19,
   "metadata": {},
   "outputs": [
    {
     "name": "stdout",
     "output_type": "stream",
     "text": [
      "RMSE základního modelu: 0.6492021924513821\n"
     ]
    }
   ],
   "source": [
    "target_index = np.where(train_data.columns == 'pm10')[0][0]\n",
    "y_pred = X_val[:, target_index]\n",
    "baseline_rmse = metrics.rmse(y_val, y_pred)\n",
    "print('RMSE základního modelu:', baseline_rmse)"
   ]
  },
  {
   "cell_type": "markdown",
   "metadata": {},
   "source": [
    "### Linearní regrese"
   ]
  },
  {
   "cell_type": "code",
   "execution_count": 20,
   "metadata": {},
   "outputs": [
    {
     "name": "stdout",
     "output_type": "stream",
     "text": [
      "RMSE lineární regrese: 0.6387100615927432\n"
     ]
    }
   ],
   "source": [
    "linear_predictor = linear_model.LinearRegression()\n",
    "linear_predictor.fit(X_tr, y_tr)\n",
    "\n",
    "y_pred = linear_predictor.predict(X_val)\n",
    "\n",
    "linear_rmse = metrics.rmse(y_val, y_pred)\n",
    "print('RMSE lineární regrese:', linear_rmse)"
   ]
  },
  {
   "cell_type": "code",
   "execution_count": 21,
   "metadata": {},
   "outputs": [
    {
     "data": {
      "text/html": [
       "<div>\n",
       "<style scoped>\n",
       "    .dataframe tbody tr th:only-of-type {\n",
       "        vertical-align: middle;\n",
       "    }\n",
       "\n",
       "    .dataframe tbody tr th {\n",
       "        vertical-align: top;\n",
       "    }\n",
       "\n",
       "    .dataframe thead th {\n",
       "        text-align: right;\n",
       "    }\n",
       "</style>\n",
       "<table border=\"1\" class=\"dataframe\">\n",
       "  <thead>\n",
       "    <tr style=\"text-align: right;\">\n",
       "      <th></th>\n",
       "      <th>RMSE</th>\n",
       "    </tr>\n",
       "    <tr>\n",
       "      <th>okno</th>\n",
       "      <th></th>\n",
       "    </tr>\n",
       "  </thead>\n",
       "  <tbody>\n",
       "    <tr>\n",
       "      <th>2</th>\n",
       "      <td>0.636928</td>\n",
       "    </tr>\n",
       "  </tbody>\n",
       "</table>\n",
       "</div>"
      ],
      "text/plain": [
       "          RMSE\n",
       "okno          \n",
       "2     0.636928"
      ]
     },
     "execution_count": 21,
     "metadata": {},
     "output_type": "execute_result"
    },
    {
     "data": {
      "image/png": "[encoded data removed]",
      "text/plain": [
       "<Figure size 432x288 with 1 Axes>"
      ]
     },
     "metadata": {
      "needs_background": "light"
     },
     "output_type": "display_data"
    }
   ],
   "source": [
    "windows = list(range(1, 100))\n",
    "linear_stats = pd.DataFrame(index=windows, columns=['RMSE'],\n",
    "                            dtype=np.float)\n",
    "linear_stats.index.name = 'okno'\n",
    "\n",
    "for window in windows:\n",
    "    X_tr_trans, y_tr_trans = data.transform_dataset(X_tr, y_tr, window)\n",
    "    X_val_trans, y_val_trans = data.transform_dataset(X_val, y_val, window)\n",
    "\n",
    "    linear = linear_model.LinearRegression()\n",
    "    linear.fit(X_tr_trans, y_tr_trans)\n",
    "\n",
    "    y_pred = linear.predict(X_val_trans)\n",
    "    linear_stats.loc[window] = metrics.rmse(y_val_trans, y_pred)\n",
    "\n",
    "linear_stats.plot(style='.--')\n",
    "best_window = linear_stats['RMSE'].idxmin()\n",
    "best_linear_rmse = linear_stats.loc[best_window, 'RMSE']\n",
    "linear_stats.loc[[best_window]]"
   ]
  },
  {
   "cell_type": "markdown",
   "metadata": {},
   "source": [
    "### Long Short-Term Memory (LSTM) rekurentní neuronová síť"
   ]
  },
  {
   "cell_type": "code",
   "execution_count": 22,
   "metadata": {},
   "outputs": [
    {
     "name": "stdout",
     "output_type": "stream",
     "text": [
      "epoch: 1 train loss: 0.678628551641731 validation loss: 2.4912716892989786\n",
      "epoch: 2 train loss: 0.5341636928409182 validation loss: 2.3516048902477946\n",
      "epoch: 3 train loss: 0.4500276121232514 validation loss: 2.2387874394295495\n",
      "epoch: 4 train loss: 0.39011416156461126 validation loss: 2.1511876523328692\n",
      "epoch: 5 train loss: 0.34687958854978695 validation loss: 2.0797927275562906\n",
      "epoch: 6 train loss: 0.3152383425297325 validation loss: 2.0069819231662023\n",
      "epoch: 7 train loss: 0.29030466186778875 validation loss: 1.9535255538387883\n",
      "epoch: 8 train loss: 0.27176783632484897 validation loss: 1.8961627078255572\n",
      "epoch: 9 train loss: 0.2543188763245101 validation loss: 1.8485277436237812\n",
      "epoch: 10 train loss: 0.2411363432617362 validation loss: 1.7998036674138231\n",
      "epoch: 11 train loss: 0.22681213668609732 validation loss: 1.756276363560527\n",
      "epoch: 12 train loss: 0.21497339044356512 validation loss: 1.7250591196610956\n",
      "epoch: 13 train loss: 0.20667529071200677 validation loss: 1.6740926673485377\n",
      "epoch: 14 train loss: 0.19966960706279435 validation loss: 1.6539455119835191\n",
      "epoch: 15 train loss: 0.1909347474762064 validation loss: 1.605894125935759\n",
      "epoch: 16 train loss: 0.18094990596659502 validation loss: 1.6002020450687675\n",
      "epoch: 17 train loss: 0.17271097424595216 validation loss: 1.545831338498143\n",
      "epoch: 18 train loss: 0.16466268587747218 validation loss: 1.5499847893816736\n",
      "epoch: 19 train loss: 0.1612276372123289 validation loss: 1.4931178185933147\n",
      "epoch: 20 train loss: 0.1549619718689906 validation loss: 1.4748033047165159\n",
      "epoch: 21 train loss: 0.1515971020991615 validation loss: 1.4408017922687442\n",
      "epoch: 22 train loss: 0.1393364455051465 validation loss: 1.4223901435193245\n",
      "epoch: 23 train loss: 0.13187405427337315 validation loss: 1.4071769183060585\n",
      "epoch: 24 train loss: 0.12570032909257392 validation loss: 1.3808352329604805\n",
      "epoch: 25 train loss: 0.11962624541459496 validation loss: 1.3684979707085654\n",
      "epoch: 26 train loss: 0.11818760151645678 validation loss: 1.321242251878772\n",
      "epoch: 27 train loss: 0.12052086590942226 validation loss: 1.3071542950615134\n",
      "epoch: 28 train loss: 0.11765355856281619 validation loss: 1.3397317672063602\n",
      "epoch: 29 train loss: 0.118489753569839 validation loss: 1.2784953139507893\n",
      "epoch: 30 train loss: 0.11210316570213003 validation loss: 1.2923360698845172\n",
      "epoch: 31 train loss: 0.10186094078956928 validation loss: 1.2470160212468082\n",
      "epoch: 32 train loss: 0.09276265745946853 validation loss: 1.2329332782033426\n",
      "epoch: 33 train loss: 0.08698142453880431 validation loss: 1.2369644320885562\n",
      "epoch: 34 train loss: 0.08296118543996274 validation loss: 1.2305110269048862\n",
      "epoch: 35 train loss: 0.0784432429964619 validation loss: 1.2281965647124535\n",
      "epoch: 36 train loss: 0.07919629703660172 validation loss: 1.2611966925632545\n",
      "epoch: 37 train loss: 0.0843033205600238 validation loss: 1.1881847045105036\n",
      "epoch: 38 train loss: 0.09741673194092508 validation loss: 1.2728927739815459\n",
      "epoch: 39 train loss: 0.08107913525522921 validation loss: 1.164836745408252\n",
      "epoch: 40 train loss: 0.0679692190531825 validation loss: 1.1902005081389275\n",
      "epoch: 41 train loss: 0.06672956365086592 validation loss: 1.1628382832448352\n",
      "epoch: 42 train loss: 0.07098185000460092 validation loss: 1.241711346441214\n",
      "epoch: 43 train loss: 0.07452925941515433 validation loss: 1.1569062554404597\n",
      "epoch: 44 train loss: 0.0630490340184349 validation loss: 1.1809382389957637\n",
      "epoch: 45 train loss: 0.05862899731000906 validation loss: 1.1359485849364555\n",
      "epoch: 46 train loss: 0.05777059566711729 validation loss: 1.2110268142119314\n",
      "epoch: 47 train loss: 0.05766345018628077 validation loss: 1.1013949791811746\n",
      "epoch: 48 train loss: 0.062072943382341365 validation loss: 1.2165896841631847\n",
      "epoch: 49 train loss: 0.05567774966008338 validation loss: 1.104266408426184\n",
      "epoch: 50 train loss: 0.04918793398460986 validation loss: 1.1221533928519614\n",
      "RMSE LSTM: 1.0593174708443691\n"
     ]
    },
    {
     "data": {
      "image/png": "[encoded data removed]",
      "text/plain": [
       "<Figure size 432x288 with 1 Axes>"
      ]
     },
     "metadata": {
      "needs_background": "light"
     },
     "output_type": "display_data"
    }
   ],
   "source": [
    "lstm = LSTM(input_size=5, hidden_size=64, output_size=1)\n",
    "lstm_stats = lstm.train(X_tr, y_tr, X_val, y_val,\n",
    "                        n_epochs=50, seq_len=100)\n",
    "\n",
    "ax = plt.axes()\n",
    "ax.plot(lstm_stats['tr_losses'], label='trénovací ztrátová funkce')\n",
    "ax.plot(lstm_stats['val_losses'], label='validační ztrátová funkce')\n",
    "ax.set_xlabel('epocha')\n",
    "ax.set_ylabel('MSE')\n",
    "ax.legend()\n",
    "\n",
    "y_pred = lstm.predict(X_val)\n",
    "lstm_rmse = metrics.rmse(y_val, y_pred)\n",
    "print('RMSE LSTM:', lstm_rmse)"
   ]
  },
  {
   "cell_type": "markdown",
   "metadata": {},
   "source": [
    "### Výsledky"
   ]
  },
  {
   "cell_type": "code",
   "execution_count": 23,
   "metadata": {},
   "outputs": [
    {
     "name": "stdout",
     "output_type": "stream",
     "text": [
      "RMSE základního modelu: 0.6492021924513821\n",
      "RMSE lineární regrese: 0.6387100615927432\n",
      "RMSE lineární regrese s oknem: 0.6369284611190263\n",
      "RMSE LSTM: 1.0593174708443691\n"
     ]
    }
   ],
   "source": [
    "print('RMSE základního modelu:', baseline_rmse)\n",
    "print('RMSE lineární regrese:', linear_rmse)\n",
    "print('RMSE lineární regrese s oknem:', best_linear_rmse)\n",
    "print('RMSE LSTM:', lstm_rmse)"
   ]
  },
  {
   "cell_type": "markdown",
   "metadata": {},
   "source": [
    "## Detekce anomálií"
   ]
  },
  {
   "cell_type": "code",
   "execution_count": 24,
   "metadata": {},
   "outputs": [
    {
     "data": {
      "image/png": "[encoded data removed]",
      "text/plain": [
       "<Figure size 432x288 with 1 Axes>"
      ]
     },
     "metadata": {
      "needs_background": "light"
     },
     "output_type": "display_data"
    }
   ],
   "source": [
    "linear = linear_model.LinearRegression()\n",
    "X_tr_trans, y_tr_trans = data.transform_dataset(X_tr, y_tr, best_window)\n",
    "X_val_trans, y_val_trans = data.transform_dataset(X_val, y_val, best_window)\n",
    "linear.fit(X_tr_trans, y_tr_trans)\n",
    "\n",
    "y_pred = linear.predict(X_val_trans)\n",
    "y_delta = np.abs(y_val_trans - y_pred)\n",
    "\n",
    "ax = plt.axes()\n",
    "bins = np.logspace(np.log10(y_delta.min()), np.log10(y_delta.max()), num=11)\n",
    "_, bins, _ = ax.hist(y_delta)\n",
    "ax.set_yscale('log')"
   ]
  },
  {
   "cell_type": "code",
   "execution_count": 25,
   "metadata": {},
   "outputs": [
    {
     "data": {
      "image/png": "[encoded data removed]",
      "text/plain": [
       "<Figure size 432x288 with 1 Axes>"
      ]
     },
     "metadata": {
      "needs_background": "light"
     },
     "output_type": "display_data"
    }
   ],
   "source": [
    "threshold = bins[1]\n",
    "anomalies = y_delta > threshold\n",
    "\n",
    "plt.plot(y_val_trans, '.--', label='pm10')\n",
    "\n",
    "for anomaly in np.arange(anomalies.shape[0])[anomalies.ravel()]:\n",
    "    plt.axvline(anomaly, ls='--', color='k')\n",
    "plt.legend();"
   ]
  },
  {
   "cell_type": "markdown",
   "metadata": {},
   "source": [
    "## Testování\n",
    "\n",
    "TODO list:\n",
    "\n",
    "- testování vybraného modelu na testovacím setu hlavně z hlediska detekovaných anomálií."
   ]
  },
  {
   "cell_type": "markdown",
   "metadata": {},
   "source": [
    "## Závěr"
   ]
  }
 ],
 "metadata": {
  "kernelspec": {
   "display_name": "Python 3",
   "language": "python",
   "name": "python3"
  },
  "language_info": {
   "codemirror_mode": {
    "name": "ipython",
    "version": 3
   },
   "file_extension": ".py",
   "mimetype": "text/x-python",
   "name": "python",
   "nbconvert_exporter": "python",
   "pygments_lexer": "ipython3",
   "version": "3.7.3"
  }
 },
 "nbformat": 4,
 "nbformat_minor": 2
}
