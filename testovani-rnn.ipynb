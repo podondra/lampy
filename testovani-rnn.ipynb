{
 "cells": [
  {
   "cell_type": "markdown",
   "metadata": {},
   "source": [
    "# Testování rekurentních neuronových sítí"
   ]
  },
  {
   "cell_type": "code",
   "execution_count": 1,
   "metadata": {},
   "outputs": [],
   "source": [
    "from datetime import datetime\n",
    "\n",
    "import matplotlib.pyplot as plt\n",
    "import numpy as np\n",
    "import pandas as pd\n",
    "from sklearn import metrics\n",
    "from sklearn import model_selection\n",
    "from sklearn import preprocessing\n",
    "import torch\n",
    "import torch.nn as nn\n",
    "import torch.optim as optim\n",
    "from torch.utils.data import TensorDataset, DataLoader"
   ]
  },
  {
   "cell_type": "markdown",
   "metadata": {},
   "source": [
    "## Recurrent Neural Network"
   ]
  },
  {
   "cell_type": "code",
   "execution_count": 2,
   "metadata": {},
   "outputs": [
    {
     "data": {
      "text/plain": [
       "Predictor(\n",
       "  (rnn): LSTM(1, 16, batch_first=True)\n",
       "  (fc): Linear(in_features=16, out_features=1, bias=True)\n",
       ")"
      ]
     },
     "execution_count": 2,
     "metadata": {},
     "output_type": "execute_result"
    }
   ],
   "source": [
    "class Predictor(nn.Module):\n",
    "    def __init__(self, input_size, hidden_size,\n",
    "                 output_size, num_layers=1):\n",
    "        super(Predictor, self).__init__()\n",
    "        self.hidden_size = hidden_size\n",
    "        self.rnn = nn.LSTM(input_size=input_size,\n",
    "                          hidden_size=hidden_size,\n",
    "                          num_layers=num_layers,\n",
    "                          batch_first=True)\n",
    "        self.fc = nn.Linear(hidden_size, output_size)\n",
    "\n",
    "    def forward(self, x, hidden):\n",
    "        batch_size = x.shape[0]\n",
    "        \n",
    "        rnn_out, hidden = self.rnn(x, hidden)\n",
    "        out = self.fc(rnn_out)\n",
    "        \n",
    "        return out, hidden\n",
    "\n",
    "predictor = Predictor(input_size=1,\n",
    "                      hidden_size=16,\n",
    "                      output_size=1)\n",
    "predictor"
   ]
  },
  {
   "cell_type": "markdown",
   "metadata": {},
   "source": [
    "## Sinus"
   ]
  },
  {
   "cell_type": "code",
   "execution_count": 3,
   "metadata": {},
   "outputs": [
    {
     "data": {
      "text/plain": [
       "(dtype('float32'), dtype('float32'))"
      ]
     },
     "execution_count": 3,
     "metadata": {},
     "output_type": "execute_result"
    },
    {
     "data": {
      "image/png": "[encoded data removed]",
      "text/plain": [
       "<Figure size 432x288 with 1 Axes>"
      ]
     },
     "metadata": {
      "needs_background": "light"
     },
     "output_type": "display_data"
    }
   ],
   "source": [
    "seq_len = 20\n",
    "time_steps = np.linspace(0, 2 * np.pi, seq_len + 1,\n",
    "                         dtype=np.float32)\n",
    "data = np.sin(time_steps)\n",
    "\n",
    "plt.plot(time_steps, data, 'o')\n",
    "\n",
    "time_steps.dtype, data.dtype"
   ]
  },
  {
   "cell_type": "code",
   "execution_count": 4,
   "metadata": {},
   "outputs": [
    {
     "data": {
      "text/plain": [
       "((1, 20, 1), (20,))"
      ]
     },
     "execution_count": 4,
     "metadata": {},
     "output_type": "execute_result"
    },
    {
     "data": {
      "image/png": "[encoded data removed]",
      "text/plain": [
       "<Figure size 432x288 with 1 Axes>"
      ]
     },
     "metadata": {
      "needs_background": "light"
     },
     "output_type": "display_data"
    }
   ],
   "source": [
    "X = data[:-1].reshape(1, -1, 1)\n",
    "y = data[1:]\n",
    "\n",
    "plt.plot(X.ravel(), 'o', label='input')\n",
    "plt.plot(y, '.', label='target')\n",
    "plt.legend()\n",
    "\n",
    "X.shape, y.shape"
   ]
  },
  {
   "cell_type": "code",
   "execution_count": 5,
   "metadata": {},
   "outputs": [
    {
     "data": {
      "text/plain": [
       "(torch.Size([1, 20, 1]), torch.Size([20]))"
      ]
     },
     "execution_count": 5,
     "metadata": {},
     "output_type": "execute_result"
    }
   ],
   "source": [
    "X_tensor = torch.from_numpy(X)\n",
    "y_tensor = torch.from_numpy(y)\n",
    "X_tensor.size(), y_tensor.size()"
   ]
  },
  {
   "cell_type": "code",
   "execution_count": 6,
   "metadata": {},
   "outputs": [
    {
     "data": {
      "text/plain": [
       "(torch.float32, torch.float32)"
      ]
     },
     "execution_count": 6,
     "metadata": {},
     "output_type": "execute_result"
    }
   ],
   "source": [
    "X_tensor.dtype, y_tensor.dtype"
   ]
  },
  {
   "cell_type": "code",
   "execution_count": 7,
   "metadata": {},
   "outputs": [
    {
     "data": {
      "text/plain": [
       "torch.Size([1, 20, 1])"
      ]
     },
     "execution_count": 7,
     "metadata": {},
     "output_type": "execute_result"
    }
   ],
   "source": [
    "out, hidden = predictor(X_tensor, hidden=None)\n",
    "out.size()"
   ]
  },
  {
   "cell_type": "markdown",
   "metadata": {},
   "source": [
    "### Loss and Optimization"
   ]
  },
  {
   "cell_type": "code",
   "execution_count": 8,
   "metadata": {
    "scrolled": true
   },
   "outputs": [
    {
     "name": "stdout",
     "output_type": "stream",
     "text": [
      "epoch:   0 loss: 0.5195\n",
      "epoch: 100 loss: 0.2263\n",
      "epoch: 200 loss: 0.0827\n",
      "epoch: 300 loss: 0.0555\n",
      "epoch: 400 loss: 0.0464\n",
      "epoch: 500 loss: 0.0436\n",
      "epoch: 600 loss: 0.0284\n",
      "epoch: 700 loss: 0.0252\n",
      "epoch: 800 loss: 0.0236\n",
      "epoch: 900 loss: 0.0225\n"
     ]
    }
   ],
   "source": [
    "def train(predictor, criterion, optimizer,\n",
    "          n_epochs, seq_len=20):\n",
    "    print_every = n_epochs // 10\n",
    "    hidden = None\n",
    "    for epoch in range(n_epochs):\n",
    "        time_steps = np.linspace(epoch * np.pi,\n",
    "                                (epoch + 2) * np.pi,\n",
    "                                seq_len + 1,\n",
    "                                dtype=np.float32)\n",
    "        data = np.sin(time_steps)\n",
    "        X = data[:-1].reshape(1, -1, 1)\n",
    "        y = data[1:]\n",
    "        \n",
    "        X_tensor = torch.from_numpy(X)\n",
    "        y_tensor = torch.from_numpy(y)\n",
    "        \n",
    "        pred, hidden = predictor(X_tensor, hidden)\n",
    "        \n",
    "        hidden = tuple([h.data for h in hidden])\n",
    "        \n",
    "        loss = criterion(pred.view(-1), y_tensor)\n",
    "        optimizer.zero_grad()\n",
    "        loss.backward()\n",
    "        # TODO maybe clip gradients\n",
    "        # `nn.utils.clip_grad_norm_(predictor.parameters(), clip )`\n",
    "        optimizer.step()\n",
    "        \n",
    "        if epoch % print_every == 0:\n",
    "            print('epoch: {:3d} loss: {:6.4f}'.format(epoch,\n",
    "                                                      loss.item()))\n",
    "\n",
    "predictor = Predictor(input_size=1,\n",
    "                      hidden_size=16,\n",
    "                      output_size=1)\n",
    "criterion = nn.MSELoss()\n",
    "optimizer = torch.optim.Adam(predictor.parameters())\n",
    "train(predictor, criterion, optimizer, n_epochs=1000)"
   ]
  },
  {
   "cell_type": "code",
   "execution_count": 9,
   "metadata": {},
   "outputs": [
    {
     "data": {
      "image/png": "[encoded data removed]",
      "text/plain": [
       "<Figure size 432x288 with 1 Axes>"
      ]
     },
     "metadata": {
      "needs_background": "light"
     },
     "output_type": "display_data"
    },
    {
     "name": "stdout",
     "output_type": "stream",
     "text": [
      "predictor RMSE: 0.2409\n",
      "baseline RMSE:  0.2212\n"
     ]
    }
   ],
   "source": [
    "time_steps = np.linspace(0, np.pi, seq_len // 2 + 1,\n",
    "                         dtype=np.float32)\n",
    "data = np.sin(time_steps)\n",
    "X = data[:-1].reshape(1, -1, 1)\n",
    "y = data[1:]\n",
    "\n",
    "X_tensor = torch.from_numpy(X)\n",
    "\n",
    "with torch.no_grad():\n",
    "    y_pred, _ = predictor(X_tensor, None)\n",
    "    y_pred = y_pred.data.numpy().ravel()\n",
    "\n",
    "plt.plot(time_steps[1:], y, 'o', label='target')\n",
    "plt.plot(time_steps[1:], y_pred,\n",
    "         '.', label='prediction')\n",
    "plt.plot(time_steps[1:], X.ravel(),\n",
    "         '.', label='baseline')\n",
    "plt.legend()\n",
    "plt.show()\n",
    "\n",
    "test_rmse = np.sqrt(metrics.mean_squared_error(y, y_pred))\n",
    "# baseline\n",
    "baseline_rmse = np.sqrt(metrics.mean_squared_error(y, X.ravel()))\n",
    "\n",
    "print('predictor RMSE: {:6.4f}'.format(test_rmse))\n",
    "print('baseline RMSE:  {:6.4f}'.format(baseline_rmse))"
   ]
  },
  {
   "cell_type": "markdown",
   "metadata": {},
   "source": [
    "## Beijing PM2.5 Data Data Set\n",
    "\n",
    "Zdroj: http://archive.ics.uci.edu/ml/datasets/Beijing+PM2.5+Data."
   ]
  },
  {
   "cell_type": "code",
   "execution_count": 10,
   "metadata": {},
   "outputs": [
    {
     "name": "stdout",
     "output_type": "stream",
     "text": [
      "<class 'pandas.core.frame.DataFrame'>\n",
      "DatetimeIndex: 43800 entries, 2010-01-02 00:00:00 to 2014-12-31 23:00:00\n",
      "Data columns (total 8 columns):\n",
      "pollution    43800 non-null float64\n",
      "dew          43800 non-null int64\n",
      "temp         43800 non-null float64\n",
      "press        43800 non-null float64\n",
      "wnd dir      43800 non-null object\n",
      "wnd spd      43800 non-null float64\n",
      "snow         43800 non-null int64\n",
      "rain         43800 non-null int64\n",
      "dtypes: float64(4), int64(3), object(1)\n",
      "memory usage: 3.0+ MB\n"
     ]
    },
    {
     "data": {
      "text/html": [
       "<div>\n",
       "<style scoped>\n",
       "    .dataframe tbody tr th:only-of-type {\n",
       "        vertical-align: middle;\n",
       "    }\n",
       "\n",
       "    .dataframe tbody tr th {\n",
       "        vertical-align: top;\n",
       "    }\n",
       "\n",
       "    .dataframe thead th {\n",
       "        text-align: right;\n",
       "    }\n",
       "</style>\n",
       "<table border=\"1\" class=\"dataframe\">\n",
       "  <thead>\n",
       "    <tr style=\"text-align: right;\">\n",
       "      <th></th>\n",
       "      <th>pollution</th>\n",
       "      <th>dew</th>\n",
       "      <th>temp</th>\n",
       "      <th>press</th>\n",
       "      <th>wnd dir</th>\n",
       "      <th>wnd spd</th>\n",
       "      <th>snow</th>\n",
       "      <th>rain</th>\n",
       "    </tr>\n",
       "    <tr>\n",
       "      <th>date</th>\n",
       "      <th></th>\n",
       "      <th></th>\n",
       "      <th></th>\n",
       "      <th></th>\n",
       "      <th></th>\n",
       "      <th></th>\n",
       "      <th></th>\n",
       "      <th></th>\n",
       "    </tr>\n",
       "  </thead>\n",
       "  <tbody>\n",
       "    <tr>\n",
       "      <th>2010-01-02 00:00:00</th>\n",
       "      <td>129.0</td>\n",
       "      <td>-16</td>\n",
       "      <td>-4.0</td>\n",
       "      <td>1020.0</td>\n",
       "      <td>SE</td>\n",
       "      <td>1.79</td>\n",
       "      <td>0</td>\n",
       "      <td>0</td>\n",
       "    </tr>\n",
       "    <tr>\n",
       "      <th>2010-01-02 01:00:00</th>\n",
       "      <td>148.0</td>\n",
       "      <td>-15</td>\n",
       "      <td>-4.0</td>\n",
       "      <td>1020.0</td>\n",
       "      <td>SE</td>\n",
       "      <td>2.68</td>\n",
       "      <td>0</td>\n",
       "      <td>0</td>\n",
       "    </tr>\n",
       "    <tr>\n",
       "      <th>2010-01-02 02:00:00</th>\n",
       "      <td>159.0</td>\n",
       "      <td>-11</td>\n",
       "      <td>-5.0</td>\n",
       "      <td>1021.0</td>\n",
       "      <td>SE</td>\n",
       "      <td>3.57</td>\n",
       "      <td>0</td>\n",
       "      <td>0</td>\n",
       "    </tr>\n",
       "    <tr>\n",
       "      <th>2010-01-02 03:00:00</th>\n",
       "      <td>181.0</td>\n",
       "      <td>-7</td>\n",
       "      <td>-5.0</td>\n",
       "      <td>1022.0</td>\n",
       "      <td>SE</td>\n",
       "      <td>5.36</td>\n",
       "      <td>1</td>\n",
       "      <td>0</td>\n",
       "    </tr>\n",
       "    <tr>\n",
       "      <th>2010-01-02 04:00:00</th>\n",
       "      <td>138.0</td>\n",
       "      <td>-7</td>\n",
       "      <td>-5.0</td>\n",
       "      <td>1022.0</td>\n",
       "      <td>SE</td>\n",
       "      <td>6.25</td>\n",
       "      <td>2</td>\n",
       "      <td>0</td>\n",
       "    </tr>\n",
       "  </tbody>\n",
       "</table>\n",
       "</div>"
      ],
      "text/plain": [
       "                     pollution  dew  temp   press wnd dir  wnd spd  snow  rain\n",
       "date                                                                          \n",
       "2010-01-02 00:00:00      129.0  -16  -4.0  1020.0      SE     1.79     0     0\n",
       "2010-01-02 01:00:00      148.0  -15  -4.0  1020.0      SE     2.68     0     0\n",
       "2010-01-02 02:00:00      159.0  -11  -5.0  1021.0      SE     3.57     0     0\n",
       "2010-01-02 03:00:00      181.0   -7  -5.0  1022.0      SE     5.36     1     0\n",
       "2010-01-02 04:00:00      138.0   -7  -5.0  1022.0      SE     6.25     2     0"
      ]
     },
     "execution_count": 10,
     "metadata": {},
     "output_type": "execute_result"
    }
   ],
   "source": [
    "def parse_date(year, month, day, hour):\n",
    "    date = '{} {} {} {}'.format(year, month, day, hour)\n",
    "    return datetime.strptime(date, '%Y %m %d %H')\n",
    "\n",
    "data = pd.read_csv('data/pollution.csv',\n",
    "                   parse_dates=[['year', 'month', 'day', 'hour']],\n",
    "                   index_col=0, date_parser=parse_date)\n",
    "data.drop('No', axis=1, inplace=True)\n",
    "data.columns = ['pollution', 'dew', 'temp', 'press', 'wnd dir', 'wnd spd', 'snow', 'rain']\n",
    "data.index.name = 'date'\n",
    "# mark all NA values with 0\n",
    "data['pollution'].fillna(0, inplace=True)\n",
    "# drop the first 24 hours\n",
    "data = data[24:]\n",
    "data.info()\n",
    "data.head()"
   ]
  },
  {
   "cell_type": "code",
   "execution_count": 11,
   "metadata": {},
   "outputs": [
    {
     "data": {
      "image/png": "[encoded data removed]",
      "text/plain": [
       "<Figure size 432x288 with 7 Axes>"
      ]
     },
     "metadata": {
      "needs_background": "light"
     },
     "output_type": "display_data"
    }
   ],
   "source": [
    "columns = ['pollution', 'dew', 'temp', 'press', 'wnd spd', 'snow', 'rain']\n",
    "fig, axs = plt.subplots(nrows=len(columns), sharex=True)\n",
    "for ax, column in zip(axs, columns):\n",
    "    data[column].plot(ax=ax, label=column)\n",
    "    ax.legend()"
   ]
  },
  {
   "cell_type": "code",
   "execution_count": 12,
   "metadata": {
    "scrolled": true
   },
   "outputs": [
    {
     "data": {
      "text/html": [
       "<div>\n",
       "<style scoped>\n",
       "    .dataframe tbody tr th:only-of-type {\n",
       "        vertical-align: middle;\n",
       "    }\n",
       "\n",
       "    .dataframe tbody tr th {\n",
       "        vertical-align: top;\n",
       "    }\n",
       "\n",
       "    .dataframe thead th {\n",
       "        text-align: right;\n",
       "    }\n",
       "</style>\n",
       "<table border=\"1\" class=\"dataframe\">\n",
       "  <thead>\n",
       "    <tr style=\"text-align: right;\">\n",
       "      <th></th>\n",
       "      <th>pollution</th>\n",
       "      <th>dew</th>\n",
       "      <th>temp</th>\n",
       "      <th>press</th>\n",
       "      <th>wnd dir</th>\n",
       "      <th>wnd spd</th>\n",
       "      <th>snow</th>\n",
       "      <th>rain</th>\n",
       "      <th>target</th>\n",
       "    </tr>\n",
       "    <tr>\n",
       "      <th>date</th>\n",
       "      <th></th>\n",
       "      <th></th>\n",
       "      <th></th>\n",
       "      <th></th>\n",
       "      <th></th>\n",
       "      <th></th>\n",
       "      <th></th>\n",
       "      <th></th>\n",
       "      <th></th>\n",
       "    </tr>\n",
       "  </thead>\n",
       "  <tbody>\n",
       "    <tr>\n",
       "      <th>2010-01-02 00:00:00</th>\n",
       "      <td>129.0</td>\n",
       "      <td>-16.0</td>\n",
       "      <td>-4.0</td>\n",
       "      <td>1020.0</td>\n",
       "      <td>2.0</td>\n",
       "      <td>1.79</td>\n",
       "      <td>0.0</td>\n",
       "      <td>0.0</td>\n",
       "      <td>148.0</td>\n",
       "    </tr>\n",
       "    <tr>\n",
       "      <th>2010-01-02 01:00:00</th>\n",
       "      <td>148.0</td>\n",
       "      <td>-15.0</td>\n",
       "      <td>-4.0</td>\n",
       "      <td>1020.0</td>\n",
       "      <td>2.0</td>\n",
       "      <td>2.68</td>\n",
       "      <td>0.0</td>\n",
       "      <td>0.0</td>\n",
       "      <td>159.0</td>\n",
       "    </tr>\n",
       "    <tr>\n",
       "      <th>2010-01-02 02:00:00</th>\n",
       "      <td>159.0</td>\n",
       "      <td>-11.0</td>\n",
       "      <td>-5.0</td>\n",
       "      <td>1021.0</td>\n",
       "      <td>2.0</td>\n",
       "      <td>3.57</td>\n",
       "      <td>0.0</td>\n",
       "      <td>0.0</td>\n",
       "      <td>181.0</td>\n",
       "    </tr>\n",
       "    <tr>\n",
       "      <th>2010-01-02 03:00:00</th>\n",
       "      <td>181.0</td>\n",
       "      <td>-7.0</td>\n",
       "      <td>-5.0</td>\n",
       "      <td>1022.0</td>\n",
       "      <td>2.0</td>\n",
       "      <td>5.36</td>\n",
       "      <td>1.0</td>\n",
       "      <td>0.0</td>\n",
       "      <td>138.0</td>\n",
       "    </tr>\n",
       "    <tr>\n",
       "      <th>2010-01-02 04:00:00</th>\n",
       "      <td>138.0</td>\n",
       "      <td>-7.0</td>\n",
       "      <td>-5.0</td>\n",
       "      <td>1022.0</td>\n",
       "      <td>2.0</td>\n",
       "      <td>6.25</td>\n",
       "      <td>2.0</td>\n",
       "      <td>0.0</td>\n",
       "      <td>109.0</td>\n",
       "    </tr>\n",
       "  </tbody>\n",
       "</table>\n",
       "</div>"
      ],
      "text/plain": [
       "                     pollution   dew  temp   press  wnd dir  wnd spd  snow  \\\n",
       "date                                                                         \n",
       "2010-01-02 00:00:00      129.0 -16.0  -4.0  1020.0      2.0     1.79   0.0   \n",
       "2010-01-02 01:00:00      148.0 -15.0  -4.0  1020.0      2.0     2.68   0.0   \n",
       "2010-01-02 02:00:00      159.0 -11.0  -5.0  1021.0      2.0     3.57   0.0   \n",
       "2010-01-02 03:00:00      181.0  -7.0  -5.0  1022.0      2.0     5.36   1.0   \n",
       "2010-01-02 04:00:00      138.0  -7.0  -5.0  1022.0      2.0     6.25   2.0   \n",
       "\n",
       "                     rain  target  \n",
       "date                               \n",
       "2010-01-02 00:00:00   0.0   148.0  \n",
       "2010-01-02 01:00:00   0.0   159.0  \n",
       "2010-01-02 02:00:00   0.0   181.0  \n",
       "2010-01-02 03:00:00   0.0   138.0  \n",
       "2010-01-02 04:00:00   0.0   109.0  "
      ]
     },
     "execution_count": 12,
     "metadata": {},
     "output_type": "execute_result"
    }
   ],
   "source": [
    "encoder = preprocessing.LabelEncoder()\n",
    "data['wnd dir'] = encoder.fit_transform(data['wnd dir'])\n",
    "data['target'] = data['pollution'].shift(-1)\n",
    "data.dropna(inplace=True)\n",
    "data = data.astype('float32')\n",
    "data.head()"
   ]
  },
  {
   "cell_type": "code",
   "execution_count": 13,
   "metadata": {},
   "outputs": [
    {
     "data": {
      "text/plain": [
       "((35039, 8), (35039, 1), (8760, 8), (8760, 1))"
      ]
     },
     "execution_count": 13,
     "metadata": {},
     "output_type": "execute_result"
    }
   ],
   "source": [
    "X = data.values[:, :-1]\n",
    "y = data.values[:, -1:]\n",
    "\n",
    "X_train, X_test, y_train, y_test = model_selection.train_test_split(\n",
    "    X, y, test_size=0.2, shuffle=False)\n",
    "X_train.shape, y_train.shape, X_test.shape, y_test.shape"
   ]
  },
  {
   "cell_type": "code",
   "execution_count": 14,
   "metadata": {},
   "outputs": [
    {
     "data": {
      "text/plain": [
       "((35039, 8), (35039, 1), (8760, 8), (8760, 1))"
      ]
     },
     "execution_count": 14,
     "metadata": {},
     "output_type": "execute_result"
    }
   ],
   "source": [
    "scaler_X = preprocessing.MinMaxScaler(feature_range=(-1, 1))\n",
    "X_train_scaled = scaler_X.fit_transform(X_train)\n",
    "X_test_scaled = scaler_X.transform(X_test)\n",
    "\n",
    "scaler_y = preprocessing.MinMaxScaler(feature_range=(-1, 1))\n",
    "y_train_scaled = scaler_y.fit_transform(y_train)\n",
    "y_test_scaled = scaler_y.transform(y_test)\n",
    "\n",
    "(X_train_scaled.shape, y_train_scaled.shape,\n",
    " X_test_scaled.shape, y_test_scaled.shape)"
   ]
  },
  {
   "cell_type": "code",
   "execution_count": 15,
   "metadata": {},
   "outputs": [
    {
     "data": {
      "text/plain": [
       "(torch.Size([35039, 8]),\n",
       " torch.Size([35039, 1]),\n",
       " torch.Size([8760, 8]),\n",
       " torch.Size([8760, 1]))"
      ]
     },
     "execution_count": 15,
     "metadata": {},
     "output_type": "execute_result"
    }
   ],
   "source": [
    "X_train_tensor = torch.from_numpy(X_train_scaled)\n",
    "y_train_tensor = torch.from_numpy(y_train_scaled)\n",
    "X_test_tensor = torch.from_numpy(X_test_scaled)\n",
    "y_test_tensor = torch.from_numpy(y_test_scaled)\n",
    "\n",
    "(X_train_tensor.size(), y_train_tensor.size(),\n",
    " X_test_tensor.size(), y_test_tensor.size())"
   ]
  },
  {
   "cell_type": "code",
   "execution_count": 16,
   "metadata": {},
   "outputs": [
    {
     "name": "stdout",
     "output_type": "stream",
     "text": [
      "epoch:    1 train loss: 0.029505 test loss: 0.075256\n",
      "epoch:    2 train loss: 0.007909 test loss: 0.021882\n",
      "epoch:    3 train loss: 0.004459 test loss: 0.008973\n",
      "epoch:    4 train loss: 0.003451 test loss: 0.006179\n",
      "epoch:    5 train loss: 0.003273 test loss: 0.005563\n",
      "epoch:    6 train loss: 0.003216 test loss: 0.005388\n",
      "epoch:    7 train loss: 0.003178 test loss: 0.005350\n",
      "epoch:    8 train loss: 0.003153 test loss: 0.005363\n",
      "epoch:    9 train loss: 0.003139 test loss: 0.005406\n",
      "epoch:   10 train loss: 0.003127 test loss: 0.005487\n",
      "epoch:   11 train loss: 0.003114 test loss: 0.005569\n",
      "epoch:   12 train loss: 0.003102 test loss: 0.005599\n",
      "epoch:   13 train loss: 0.003097 test loss: 0.005605\n",
      "epoch:   14 train loss: 0.003105 test loss: 0.005522\n",
      "epoch:   15 train loss: 0.003097 test loss: 0.005400\n",
      "epoch:   16 train loss: 0.003055 test loss: 0.005028\n",
      "epoch:   17 train loss: 0.003034 test loss: 0.005437\n",
      "epoch:   18 train loss: 0.002999 test loss: 0.004582\n",
      "epoch:   19 train loss: 0.003013 test loss: 0.005541\n",
      "epoch:   20 train loss: 0.002945 test loss: 0.004642\n",
      "epoch:   21 train loss: 0.002921 test loss: 0.005061\n",
      "epoch:   22 train loss: 0.002879 test loss: 0.004587\n",
      "epoch:   23 train loss: 0.002847 test loss: 0.004534\n",
      "epoch:   24 train loss: 0.002820 test loss: 0.004332\n",
      "epoch:   25 train loss: 0.002807 test loss: 0.004565\n",
      "epoch:   26 train loss: 0.002786 test loss: 0.004143\n",
      "epoch:   27 train loss: 0.002805 test loss: 0.005022\n",
      "epoch:   28 train loss: 0.002750 test loss: 0.003932\n",
      "epoch:   29 train loss: 0.002737 test loss: 0.004003\n",
      "epoch:   30 train loss: 0.002722 test loss: 0.003933\n",
      "epoch:   31 train loss: 0.002707 test loss: 0.003710\n",
      "epoch:   32 train loss: 0.002693 test loss: 0.003701\n",
      "epoch:   33 train loss: 0.002682 test loss: 0.003841\n",
      "epoch:   34 train loss: 0.002664 test loss: 0.003603\n",
      "epoch:   35 train loss: 0.002680 test loss: 0.003904\n",
      "epoch:   36 train loss: 0.002698 test loss: 0.004680\n",
      "epoch:   37 train loss: 0.002659 test loss: 0.003646\n",
      "epoch:   38 train loss: 0.002640 test loss: 0.003764\n",
      "epoch:   39 train loss: 0.002634 test loss: 0.003537\n",
      "epoch:   40 train loss: 0.002606 test loss: 0.003603\n",
      "epoch:   41 train loss: 0.002583 test loss: 0.003433\n",
      "epoch:   42 train loss: 0.002580 test loss: 0.003638\n",
      "epoch:   43 train loss: 0.002549 test loss: 0.003483\n",
      "epoch:   44 train loss: 0.002527 test loss: 0.003451\n",
      "epoch:   45 train loss: 0.002501 test loss: 0.003590\n",
      "epoch:   46 train loss: 0.002496 test loss: 0.003701\n",
      "epoch:   47 train loss: 0.002499 test loss: 0.003737\n",
      "epoch:   48 train loss: 0.002476 test loss: 0.003778\n",
      "epoch:   49 train loss: 0.002479 test loss: 0.003887\n",
      "epoch:   50 train loss: 0.002473 test loss: 0.003687\n"
     ]
    }
   ],
   "source": [
    "n_epochs = 50\n",
    "batch_size = 72\n",
    "\n",
    "predictor = Predictor(input_size=8, hidden_size=64, output_size=1,\n",
    "                      num_layers=2)\n",
    "criterion = nn.MSELoss(reduction='sum')\n",
    "optimizer = torch.optim.Adam(predictor.parameters())\n",
    "\n",
    "train_dataset = TensorDataset(X_train_tensor,\n",
    "                              y_train_tensor)\n",
    "train_loader = DataLoader(train_dataset,\n",
    "                          batch_size=batch_size,\n",
    "                          shuffle=False)\n",
    "\n",
    "train_losses = []\n",
    "test_losses = []\n",
    "\n",
    "for epoch in range(1, n_epochs + 1):\n",
    "    hidden = None\n",
    "    train_loss = 0\n",
    "    for inputs, labels in train_loader:\n",
    "        inputs = inputs.unsqueeze(0)\n",
    "        pred, hidden = predictor(inputs, hidden)\n",
    "        loss = criterion(pred.squeeze(dim=0), labels)\n",
    "        train_loss += loss.item()\n",
    "        \n",
    "        optimizer.zero_grad()\n",
    "        loss.backward()\n",
    "        # TODO maybe clip gradients\n",
    "        # `nn.utils.clip_grad_norm_(predictor.parameters(), clip )`\n",
    "        optimizer.step()\n",
    "        \n",
    "        hidden = tuple([h.data for h in hidden])\n",
    "    \n",
    "    with torch.no_grad():\n",
    "        pred, _ = predictor(X_test_tensor.unsqueeze(0), hidden=None)\n",
    "        test_loss = criterion(pred.squeeze(dim=0), y_test_tensor).item()\n",
    "    \n",
    "    train_losses.append(train_loss / X_train.shape[0])\n",
    "    test_losses.append(test_loss / X_test.shape[0])\n",
    "    \n",
    "    print('epoch: {:4d} train loss: {:8.6f} test loss: {:8.6f}'.format(\n",
    "            epoch, train_losses[-1], test_losses[-1]))"
   ]
  },
  {
   "cell_type": "code",
   "execution_count": 17,
   "metadata": {},
   "outputs": [
    {
     "data": {
      "image/png": "[encoded data removed]",
      "text/plain": [
       "<Figure size 432x288 with 1 Axes>"
      ]
     },
     "metadata": {
      "needs_background": "light"
     },
     "output_type": "display_data"
    }
   ],
   "source": [
    "plt.plot(train_losses, label='train')\n",
    "plt.plot(test_losses, label='test')\n",
    "plt.legend()\n",
    "plt.show()"
   ]
  },
  {
   "cell_type": "code",
   "execution_count": 18,
   "metadata": {},
   "outputs": [
    {
     "name": "stdout",
     "output_type": "stream",
     "text": [
      "LSTM test RMSE:     30.178831\n",
      "baseline test RMSE: 24.514713\n"
     ]
    }
   ],
   "source": [
    "with torch.no_grad():\n",
    "    y_pred_tensor, _ = predictor(X_test_tensor.unsqueeze(0), hidden=None)\n",
    "\n",
    "y_pred_scaled = y_pred_tensor.squeeze(dim=0).numpy()\n",
    "y_pred = scaler_y.inverse_transform(y_pred_scaled)\n",
    "\n",
    "throw_away = 2\n",
    "\n",
    "test_rmse = np.sqrt(metrics.mean_squared_error(y_test, y_pred))\n",
    "y_base = X_test[:, :1]\n",
    "baseline_rmse = np.sqrt(metrics.mean_squared_error(y_base, y_test))\n",
    "\n",
    "print('LSTM test RMSE:     {:8.6f}'.format(test_rmse))\n",
    "print('baseline test RMSE: {:8.6f}'.format(baseline_rmse))"
   ]
  },
  {
   "cell_type": "code",
   "execution_count": 19,
   "metadata": {},
   "outputs": [
    {
     "data": {
      "image/png": "[encoded data removed]",
      "text/plain": [
       "<Figure size 432x288 with 1 Axes>"
      ]
     },
     "metadata": {
      "needs_background": "light"
     },
     "output_type": "display_data"
    }
   ],
   "source": [
    "start = 24 * 256\n",
    "size = 24\n",
    "plt.plot(y_test[start:(start + size)], 'o', label='target')\n",
    "plt.plot(y_base[start:(start + size)], '.', label='baseline')\n",
    "plt.plot(y_pred[start:(start + size)], '.', label='prediction')\n",
    "plt.grid()\n",
    "plt.legend();"
   ]
  }
 ],
 "metadata": {
  "kernelspec": {
   "display_name": "Python 3",
   "language": "python",
   "name": "python3"
  },
  "language_info": {
   "codemirror_mode": {
    "name": "ipython",
    "version": 3
   },
   "file_extension": ".py",
   "mimetype": "text/x-python",
   "name": "python",
   "nbconvert_exporter": "python",
   "pygments_lexer": "ipython3",
   "version": "3.7.3"
  }
 },
 "nbformat": 4,
 "nbformat_minor": 2
}
