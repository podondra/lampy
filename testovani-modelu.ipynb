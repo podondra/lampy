{
 "cells": [
  {
   "cell_type": "code",
   "execution_count": 1,
   "metadata": {},
   "outputs": [],
   "source": [
    "import matplotlib.pyplot as plt\n",
    "import numpy as np\n",
    "import pandas as pd\n",
    "from sklearn import linear_model\n",
    "from sklearn.preprocessing import StandardScaler\n",
    "\n",
    "from lampy import data\n",
    "from lampy import metrics\n",
    "from lampy.lstm import LSTM"
   ]
  },
  {
   "cell_type": "code",
   "execution_count": 2,
   "metadata": {},
   "outputs": [],
   "source": [
    "%matplotlib inline\n",
    "plt.rc('text', usetex=True)\n",
    "plt.rc('font', family='serif')"
   ]
  },
  {
   "cell_type": "code",
   "execution_count": 3,
   "metadata": {},
   "outputs": [],
   "source": [
    "data_file = 'data/636f6a2e-3a48-4801-afce-05c864adc60e-lampy_2019.csv'\n",
    "sid = 'y7e4onsytkb3ydonflz5kcbcigkh5ulo'\n",
    "target = 'pm10'\n",
    "attributes = [target, 'o3', 'pm2p5', 'no2', 'so2']\n",
    "\n",
    "df = data.read_2018_data(data_file).loc[sid, attributes]\n",
    "resampled_df = data.resample_data(df, period='15T')\n",
    "X, y = data.create_dataset(resampled_df)\n",
    "X_tr, X_val, y_tr, y_val = data.train_validation_split(X, y)\n",
    "\n",
    "X_scaler = StandardScaler()\n",
    "y_scaler = StandardScaler()\n",
    "\n",
    "X_tr_scaled = X_scaler.fit_transform(X_tr)\n",
    "X_val_scaled = X_scaler.transform(X_val)\n",
    "\n",
    "y_tr_scaled = y_scaler.fit_transform(y_tr)\n",
    "y_val_scaled = y_scaler.transform(y_val)"
   ]
  },
  {
   "cell_type": "code",
   "execution_count": 4,
   "metadata": {},
   "outputs": [
    {
     "data": {
      "text/plain": [
       "Text(0.5, 1.0, 'validation set')"
      ]
     },
     "execution_count": 4,
     "metadata": {},
     "output_type": "execute_result"
    },
    {
     "data": {
      "image/png": "[encoded data removed]",
      "text/plain": [
       "<Figure size 432x288 with 2 Axes>"
      ]
     },
     "metadata": {
      "needs_background": "light"
     },
     "output_type": "display_data"
    }
   ],
   "source": [
    "fig, (ax1, ax2) = plt.subplots(ncols=2, sharey=True)\n",
    "ax1.plot(y_tr)\n",
    "ax1.set_ylabel('$\\mathrm{pm}_{10}$')\n",
    "ax1.set_title('train set')\n",
    "ax2.plot(y_val)\n",
    "ax2.set_title('validation set')"
   ]
  },
  {
   "cell_type": "markdown",
   "metadata": {},
   "source": [
    "## Baseline"
   ]
  },
  {
   "cell_type": "code",
   "execution_count": 5,
   "metadata": {},
   "outputs": [
    {
     "name": "stdout",
     "output_type": "stream",
     "text": [
      "baseline RMSE: 8.279020575239366\n"
     ]
    }
   ],
   "source": [
    "y_pred = X_val[:, :1]\n",
    "baseline_rmse = metrics.rmse(y_val, y_pred)\n",
    "print('baseline RMSE:', baseline_rmse)"
   ]
  },
  {
   "cell_type": "code",
   "execution_count": 6,
   "metadata": {},
   "outputs": [
    {
     "name": "stdout",
     "output_type": "stream",
     "text": [
      "baseline train RMSE: 3.6933743519047977\n"
     ]
    }
   ],
   "source": [
    "y_pred = X_tr[:, :1]\n",
    "baseline_tr_rmse = metrics.rmse(y_tr, y_pred)\n",
    "print('baseline train RMSE:', baseline_tr_rmse)"
   ]
  },
  {
   "cell_type": "markdown",
   "metadata": {},
   "source": [
    "## Lineární regrese\n",
    "\n",
    "### Metoda nejmenších čtverců"
   ]
  },
  {
   "cell_type": "code",
   "execution_count": 7,
   "metadata": {},
   "outputs": [
    {
     "name": "stdout",
     "output_type": "stream",
     "text": [
      "linear RMSE: 8.145235410655742\n",
      "coefs: [[ 0.94737406 -0.01311821  0.01457445  0.01365614  0.00155432]]\n"
     ]
    }
   ],
   "source": [
    "linear = linear_model.LinearRegression()\n",
    "linear.fit(X_tr, y_tr)\n",
    "\n",
    "y_pred = linear.predict(X_val)\n",
    "\n",
    "linear_rmse = metrics.rmse(y_val, y_pred)\n",
    "print('linear RMSE:', linear_rmse)\n",
    "\n",
    "print('coefs:', linear.coef_)"
   ]
  },
  {
   "cell_type": "code",
   "execution_count": 8,
   "metadata": {},
   "outputs": [
    {
     "name": "stdout",
     "output_type": "stream",
     "text": [
      "linear train RMSE: 3.640641688055436\n"
     ]
    }
   ],
   "source": [
    "y_pred = linear.predict(X_tr)\n",
    "linear_tr_rmse = metrics.rmse(y_tr, y_pred)\n",
    "print('linear train RMSE:', linear_tr_rmse)"
   ]
  },
  {
   "cell_type": "markdown",
   "metadata": {},
   "source": [
    "### Lasso"
   ]
  },
  {
   "cell_type": "code",
   "execution_count": 9,
   "metadata": {},
   "outputs": [
    {
     "data": {
      "text/html": [
       "<div>\n",
       "<style scoped>\n",
       "    .dataframe tbody tr th:only-of-type {\n",
       "        vertical-align: middle;\n",
       "    }\n",
       "\n",
       "    .dataframe tbody tr th {\n",
       "        vertical-align: top;\n",
       "    }\n",
       "\n",
       "    .dataframe thead th {\n",
       "        text-align: right;\n",
       "    }\n",
       "</style>\n",
       "<table border=\"1\" class=\"dataframe\">\n",
       "  <thead>\n",
       "    <tr style=\"text-align: right;\">\n",
       "      <th></th>\n",
       "      <th>RMSE</th>\n",
       "      <th>coefs</th>\n",
       "    </tr>\n",
       "  </thead>\n",
       "  <tbody>\n",
       "    <tr>\n",
       "      <th>1.000000e-10</th>\n",
       "      <td>8.14524</td>\n",
       "      <td>[0.9473701430589427, -0.01669781664111607, 0.0...</td>\n",
       "    </tr>\n",
       "    <tr>\n",
       "      <th>3.162278e-10</th>\n",
       "      <td>8.14524</td>\n",
       "      <td>[0.9473701444897213, -0.016697816617726458, 0....</td>\n",
       "    </tr>\n",
       "    <tr>\n",
       "      <th>1.000000e-09</th>\n",
       "      <td>8.14524</td>\n",
       "      <td>[0.9473701488315144, -0.016697816520755065, 0....</td>\n",
       "    </tr>\n",
       "    <tr>\n",
       "      <th>3.162278e-09</th>\n",
       "      <td>8.14524</td>\n",
       "      <td>[0.9473701620053735, -0.016697816144084023, 0....</td>\n",
       "    </tr>\n",
       "    <tr>\n",
       "      <th>1.000000e-08</th>\n",
       "      <td>8.14524</td>\n",
       "      <td>[0.9473702019720326, -0.016697814739778362, 0....</td>\n",
       "    </tr>\n",
       "    <tr>\n",
       "      <th>3.162278e-08</th>\n",
       "      <td>8.14524</td>\n",
       "      <td>[0.9473703860114054, -0.01669781755914869, 0.0...</td>\n",
       "    </tr>\n",
       "    <tr>\n",
       "      <th>1.000000e-07</th>\n",
       "      <td>8.14524</td>\n",
       "      <td>[0.9473708819102609, -0.016697815634359722, 0....</td>\n",
       "    </tr>\n",
       "    <tr>\n",
       "      <th>3.162278e-07</th>\n",
       "      <td>8.14524</td>\n",
       "      <td>[0.9473723859801216, -0.016697801475709775, 0....</td>\n",
       "    </tr>\n",
       "    <tr>\n",
       "      <th>1.000000e-06</th>\n",
       "      <td>8.14524</td>\n",
       "      <td>[0.9473769397723498, -0.016697731202580324, 0....</td>\n",
       "    </tr>\n",
       "    <tr>\n",
       "      <th>3.162278e-06</th>\n",
       "      <td>8.14526</td>\n",
       "      <td>[0.9473906524089973, -0.016697422376910267, 0....</td>\n",
       "    </tr>\n",
       "    <tr>\n",
       "      <th>1.000000e-05</th>\n",
       "      <td>8.14532</td>\n",
       "      <td>[0.9474312346391109, -0.016696095580693376, 0....</td>\n",
       "    </tr>\n",
       "    <tr>\n",
       "      <th>3.162278e-05</th>\n",
       "      <td>8.14554</td>\n",
       "      <td>[0.9476051674467695, -0.01669764306187919, 0.0...</td>\n",
       "    </tr>\n",
       "    <tr>\n",
       "      <th>1.000000e-04</th>\n",
       "      <td>8.14551</td>\n",
       "      <td>[0.9475631040033737, -0.016627974054077923, 0....</td>\n",
       "    </tr>\n",
       "    <tr>\n",
       "      <th>3.162278e-04</th>\n",
       "      <td>8.14543</td>\n",
       "      <td>[0.9474494172574989, -0.0164101421597822, 0.00...</td>\n",
       "    </tr>\n",
       "    <tr>\n",
       "      <th>1.000000e-03</th>\n",
       "      <td>8.14523</td>\n",
       "      <td>[0.9470886465501135, -0.015723330622913895, 0....</td>\n",
       "    </tr>\n",
       "    <tr>\n",
       "      <th>3.162278e-03</th>\n",
       "      <td>8.14516</td>\n",
       "      <td>[0.9459439555100294, -0.013542878072767694, 0....</td>\n",
       "    </tr>\n",
       "    <tr>\n",
       "      <th>1.000000e-02</th>\n",
       "      <td>8.14618</td>\n",
       "      <td>[0.9420409258470848, -0.007497502643194423, 0....</td>\n",
       "    </tr>\n",
       "    <tr>\n",
       "      <th>3.162278e-02</th>\n",
       "      <td>8.15565</td>\n",
       "      <td>[0.9264381691690821, -0.0, 0.0, 0.0, -0.0]</td>\n",
       "    </tr>\n",
       "    <tr>\n",
       "      <th>1.000000e-01</th>\n",
       "      <td>8.36879</td>\n",
       "      <td>[0.8580609457707657, -0.0, 0.0, 0.0, -0.0]</td>\n",
       "    </tr>\n",
       "    <tr>\n",
       "      <th>3.162278e-01</th>\n",
       "      <td>10.7451</td>\n",
       "      <td>[0.6418331797539277, -0.0, 0.0, 0.0, -0.0]</td>\n",
       "    </tr>\n",
       "    <tr>\n",
       "      <th>1.000000e+00</th>\n",
       "      <td>23.6029</td>\n",
       "      <td>[0.0, -0.0, 0.0, 0.0, -0.0]</td>\n",
       "    </tr>\n",
       "    <tr>\n",
       "      <th>3.162278e+00</th>\n",
       "      <td>23.6029</td>\n",
       "      <td>[0.0, -0.0, 0.0, 0.0, -0.0]</td>\n",
       "    </tr>\n",
       "    <tr>\n",
       "      <th>1.000000e+01</th>\n",
       "      <td>23.6029</td>\n",
       "      <td>[0.0, -0.0, 0.0, 0.0, -0.0]</td>\n",
       "    </tr>\n",
       "  </tbody>\n",
       "</table>\n",
       "</div>"
      ],
      "text/plain": [
       "                 RMSE                                              coefs\n",
       "1.000000e-10  8.14524  [0.9473701430589427, -0.01669781664111607, 0.0...\n",
       "3.162278e-10  8.14524  [0.9473701444897213, -0.016697816617726458, 0....\n",
       "1.000000e-09  8.14524  [0.9473701488315144, -0.016697816520755065, 0....\n",
       "3.162278e-09  8.14524  [0.9473701620053735, -0.016697816144084023, 0....\n",
       "1.000000e-08  8.14524  [0.9473702019720326, -0.016697814739778362, 0....\n",
       "3.162278e-08  8.14524  [0.9473703860114054, -0.01669781755914869, 0.0...\n",
       "1.000000e-07  8.14524  [0.9473708819102609, -0.016697815634359722, 0....\n",
       "3.162278e-07  8.14524  [0.9473723859801216, -0.016697801475709775, 0....\n",
       "1.000000e-06  8.14524  [0.9473769397723498, -0.016697731202580324, 0....\n",
       "3.162278e-06  8.14526  [0.9473906524089973, -0.016697422376910267, 0....\n",
       "1.000000e-05  8.14532  [0.9474312346391109, -0.016696095580693376, 0....\n",
       "3.162278e-05  8.14554  [0.9476051674467695, -0.01669764306187919, 0.0...\n",
       "1.000000e-04  8.14551  [0.9475631040033737, -0.016627974054077923, 0....\n",
       "3.162278e-04  8.14543  [0.9474494172574989, -0.0164101421597822, 0.00...\n",
       "1.000000e-03  8.14523  [0.9470886465501135, -0.015723330622913895, 0....\n",
       "3.162278e-03  8.14516  [0.9459439555100294, -0.013542878072767694, 0....\n",
       "1.000000e-02  8.14618  [0.9420409258470848, -0.007497502643194423, 0....\n",
       "3.162278e-02  8.15565         [0.9264381691690821, -0.0, 0.0, 0.0, -0.0]\n",
       "1.000000e-01  8.36879         [0.8580609457707657, -0.0, 0.0, 0.0, -0.0]\n",
       "3.162278e-01  10.7451         [0.6418331797539277, -0.0, 0.0, 0.0, -0.0]\n",
       "1.000000e+00  23.6029                        [0.0, -0.0, 0.0, 0.0, -0.0]\n",
       "3.162278e+00  23.6029                        [0.0, -0.0, 0.0, 0.0, -0.0]\n",
       "1.000000e+01  23.6029                        [0.0, -0.0, 0.0, 0.0, -0.0]"
      ]
     },
     "execution_count": 9,
     "metadata": {},
     "output_type": "execute_result"
    }
   ],
   "source": [
    "n_alphas = 23\n",
    "alphas = np.logspace(-10, 1, n_alphas)\n",
    "lasso_stats = pd.DataFrame(index=alphas, columns=['RMSE', 'coefs'])\n",
    "\n",
    "for alpha in alphas:\n",
    "    lasso = linear_model.Lasso(alpha=alpha)\n",
    "    lasso.fit(X_tr_scaled, y_tr_scaled)\n",
    "\n",
    "    y_pred_scaled = lasso.predict(X_val_scaled)\n",
    "    \n",
    "    y_pred = y_scaler.inverse_transform(y_pred_scaled)\n",
    "    lasso_rmse = metrics.rmse(y_val, y_pred)\n",
    "    lasso_stats.loc[alpha] = (lasso_rmse, lasso.coef_)\n",
    "\n",
    "lasso_stats"
   ]
  },
  {
   "cell_type": "code",
   "execution_count": 10,
   "metadata": {},
   "outputs": [
    {
     "data": {
      "image/png": "[encoded data removed]",
      "text/plain": [
       "<Figure size 432x288 with 1 Axes>"
      ]
     },
     "metadata": {
      "needs_background": "light"
     },
     "output_type": "display_data"
    }
   ],
   "source": [
    "ax = plt.axes()\n",
    "lasso_stats['RMSE'].plot(ax=ax)\n",
    "ax.set_xscale('log')\n",
    "ax.set_xlabel('alpha')\n",
    "ax.set_ylabel('RMSE');"
   ]
  },
  {
   "cell_type": "code",
   "execution_count": 11,
   "metadata": {},
   "outputs": [
    {
     "data": {
      "image/png": "[encoded data removed]",
      "text/plain": [
       "<Figure size 432x288 with 1 Axes>"
      ]
     },
     "metadata": {
      "needs_background": "light"
     },
     "output_type": "display_data"
    }
   ],
   "source": [
    "coefs = []\n",
    "for coef in lasso_stats['coefs']:\n",
    "    coefs.append(list(coef))\n",
    "coefs = np.array(coefs)\n",
    "\n",
    "ax = plt.axes()\n",
    "for attribute, coef in zip(attributes, coefs.T):\n",
    "    ax.plot(alphas, coef, label=attribute)\n",
    "    ax.set_xscale('log')\n",
    "ax.legend();"
   ]
  },
  {
   "cell_type": "markdown",
   "metadata": {},
   "source": [
    "## LSTM"
   ]
  },
  {
   "cell_type": "code",
   "execution_count": 12,
   "metadata": {},
   "outputs": [
    {
     "name": "stdout",
     "output_type": "stream",
     "text": [
      "epoch: 1 train loss: 0.5887650150548422 validation loss: 2.3850322075208914\n",
      "epoch: 2 train loss: 0.47646359448092523 validation loss: 2.235391459203807\n",
      "epoch: 3 train loss: 0.4023603751779779 validation loss: 2.1308289991005105\n",
      "epoch: 4 train loss: 0.3485854470493727 validation loss: 2.0495557864728413\n",
      "epoch: 5 train loss: 0.30819135976366663 validation loss: 1.9724359113857939\n",
      "epoch: 6 train loss: 0.2819280421015831 validation loss: 1.8974319217154132\n",
      "epoch: 7 train loss: 0.26233309543728334 validation loss: 1.8312972413242805\n",
      "epoch: 8 train loss: 0.2460427327759378 validation loss: 1.7918871186237812\n",
      "epoch: 9 train loss: 0.23283313274550027 validation loss: 1.7243123032367107\n",
      "epoch: 10 train loss: 0.22058816622041091 validation loss: 1.6918912443056522\n",
      "epoch: 11 train loss: 0.20929788471768743 validation loss: 1.635221943549791\n",
      "epoch: 12 train loss: 0.1990699731622127 validation loss: 1.6179832805608751\n",
      "epoch: 13 train loss: 0.19113662487819674 validation loss: 1.558513049849118\n",
      "epoch: 14 train loss: 0.18101322452039892 validation loss: 1.5425896179709262\n",
      "epoch: 15 train loss: 0.1736286949274442 validation loss: 1.5025275468604922\n",
      "epoch: 16 train loss: 0.1656125433829484 validation loss: 1.492318751088092\n",
      "epoch: 17 train loss: 0.15898158997093914 validation loss: 1.4441042645949396\n",
      "epoch: 18 train loss: 0.15219792307106408 validation loss: 1.4489808432349698\n",
      "epoch: 19 train loss: 0.14594030138837563 validation loss: 1.4286960895789809\n",
      "epoch: 20 train loss: 0.1395870418991035 validation loss: 1.3946686216051531\n",
      "epoch: 21 train loss: 0.13298366971295575 validation loss: 1.3786333202762302\n",
      "epoch: 22 train loss: 0.12597552463369044 validation loss: 1.4050907287314298\n",
      "epoch: 23 train loss: 0.12073420114962258 validation loss: 1.310824905154654\n",
      "epoch: 24 train loss: 0.12259419509406984 validation loss: 1.2992487405336002\n",
      "epoch: 25 train loss: 0.11623767180107772 validation loss: 1.2385036287865598\n",
      "epoch: 26 train loss: 0.1142411800975967 validation loss: 1.3125734462047354\n",
      "epoch: 27 train loss: 0.10457155037942535 validation loss: 1.2386614021152507\n",
      "epoch: 28 train loss: 0.10461844625994693 validation loss: 1.2279708989815459\n",
      "epoch: 29 train loss: 0.09617606706501623 validation loss: 1.1819510712264971\n",
      "epoch: 30 train loss: 0.0904675269812925 validation loss: 1.2166456755600046\n",
      "epoch: 31 train loss: 0.08286518261027946 validation loss: 1.206823492448642\n",
      "epoch: 32 train loss: 0.08611755939778881 validation loss: 1.2564755070508355\n",
      "epoch: 33 train loss: 0.08869408025810073 validation loss: 1.1906655540926765\n",
      "epoch: 34 train loss: 0.0905061782573934 validation loss: 1.2428522561586002\n",
      "epoch: 35 train loss: 0.08201575790333561 validation loss: 1.1876593601294103\n",
      "epoch: 36 train loss: 0.07435915204574739 validation loss: 1.2123548530713208\n",
      "epoch: 37 train loss: 0.06978191101378467 validation loss: 1.1889986199367455\n",
      "epoch: 38 train loss: 0.06901376063584659 validation loss: 1.267129967139624\n",
      "epoch: 39 train loss: 0.07446887341613902 validation loss: 1.1715602467429782\n",
      "epoch: 40 train loss: 0.07204535182343025 validation loss: 1.1037564786806522\n",
      "epoch: 41 train loss: 0.08020621280397223 validation loss: 1.2807781534717386\n",
      "epoch: 42 train loss: 0.09676204815558825 validation loss: 1.0689807208246287\n",
      "epoch: 43 train loss: 0.06606465687682932 validation loss: 1.06157863549646\n",
      "epoch: 44 train loss: 0.05888641034655632 validation loss: 1.0844608685875117\n",
      "epoch: 45 train loss: 0.05501104405819932 validation loss: 1.0863110782265553\n",
      "epoch: 46 train loss: 0.05435486905800002 validation loss: 1.1280600318448235\n",
      "epoch: 47 train loss: 0.057512846651167605 validation loss: 1.1118204865947074\n",
      "epoch: 48 train loss: 0.0632898788460278 validation loss: 1.117320677917537\n",
      "epoch: 49 train loss: 0.057141307479374515 validation loss: 1.1021204871387535\n",
      "epoch: 50 train loss: 0.05123410950340784 validation loss: 1.106131806014972\n"
     ]
    }
   ],
   "source": [
    "lstm = LSTM(input_size=5, hidden_size=64, output_size=1)\n",
    "lstm_stats = lstm.train(X_tr_scaled, y_tr_scaled, X_val_scaled, y_val_scaled,\n",
    "                        n_epochs=50, seq_len=100)"
   ]
  },
  {
   "cell_type": "code",
   "execution_count": 13,
   "metadata": {},
   "outputs": [
    {
     "data": {
      "image/png": "[encoded data removed]",
      "text/plain": [
       "<Figure size 432x288 with 1 Axes>"
      ]
     },
     "metadata": {
      "needs_background": "light"
     },
     "output_type": "display_data"
    }
   ],
   "source": [
    "ax = plt.axes()\n",
    "ax.plot(lstm_stats['tr_losses'], label='train')\n",
    "ax.plot(lstm_stats['val_losses'], label='validation')\n",
    "ax.set_xlabel('epoch')\n",
    "ax.set_ylabel('MSE loss')\n",
    "ax.legend();"
   ]
  },
  {
   "cell_type": "code",
   "execution_count": 14,
   "metadata": {},
   "outputs": [
    {
     "data": {
      "text/plain": [
       "13.412302569274095"
      ]
     },
     "execution_count": 14,
     "metadata": {},
     "output_type": "execute_result"
    }
   ],
   "source": [
    "y_pred_scaled = lstm.predict(X_val_scaled)\n",
    "y_pred = y_scaler.inverse_transform(y_pred_scaled)\n",
    "lstm_rmse = metrics.rmse(y_val, y_pred)\n",
    "lstm_rmse"
   ]
  },
  {
   "cell_type": "code",
   "execution_count": 15,
   "metadata": {},
   "outputs": [
    {
     "data": {
      "text/plain": [
       "2.822913414520962"
      ]
     },
     "execution_count": 15,
     "metadata": {},
     "output_type": "execute_result"
    }
   ],
   "source": [
    "y_pred_scaled = lstm.predict(X_tr_scaled)\n",
    "y_pred = y_scaler.inverse_transform(y_pred_scaled)\n",
    "lstm_tr_rmse = metrics.rmse(y_tr, y_pred)\n",
    "lstm_tr_rmse"
   ]
  },
  {
   "cell_type": "markdown",
   "metadata": {},
   "source": [
    "## Results"
   ]
  },
  {
   "cell_type": "code",
   "execution_count": 16,
   "metadata": {},
   "outputs": [
    {
     "name": "stdout",
     "output_type": "stream",
     "text": [
      "baseline RMSE: 8.279020575239366\n",
      "linear RMSE:   8.145235410655742\n",
      "LSTM RMSE:     13.412302569274095\n"
     ]
    }
   ],
   "source": [
    "# lasso show that other parameters are linearly unimportant\n",
    "print('baseline RMSE:', baseline_rmse)\n",
    "print('linear RMSE:  ', linear_rmse)\n",
    "print('LSTM RMSE:    ', lstm_rmse)"
   ]
  },
  {
   "cell_type": "code",
   "execution_count": 17,
   "metadata": {},
   "outputs": [
    {
     "name": "stdout",
     "output_type": "stream",
     "text": [
      "baseline train RMSE: 3.6933743519047977\n",
      "linear train RMSE:   3.640641688055436\n",
      "LSTM train RMSE:     2.822913414520962\n"
     ]
    }
   ],
   "source": [
    "print('baseline train RMSE:', baseline_tr_rmse)\n",
    "print('linear train RMSE:  ', linear_tr_rmse)\n",
    "print('LSTM train RMSE:    ', lstm_tr_rmse)"
   ]
  }
 ],
 "metadata": {
  "kernelspec": {
   "display_name": "Python 3",
   "language": "python",
   "name": "python3"
  },
  "language_info": {
   "codemirror_mode": {
    "name": "ipython",
    "version": 3
   },
   "file_extension": ".py",
   "mimetype": "text/x-python",
   "name": "python",
   "nbconvert_exporter": "python",
   "pygments_lexer": "ipython3",
   "version": "3.6.7"
  }
 },
 "nbformat": 4,
 "nbformat_minor": 2
}
