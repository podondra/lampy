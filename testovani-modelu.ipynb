{
 "cells": [
  {
   "cell_type": "code",
   "execution_count": 1,
   "metadata": {},
   "outputs": [],
   "source": [
    "import matplotlib.pyplot as plt\n",
    "import numpy as np\n",
    "import pandas as pd\n",
    "from sklearn import linear_model\n",
    "from sklearn.preprocessing import StandardScaler\n",
    "\n",
    "from lampy import data\n",
    "from lampy import metrics\n",
    "from lampy.lstm import LSTM"
   ]
  },
  {
   "cell_type": "code",
   "execution_count": 2,
   "metadata": {},
   "outputs": [],
   "source": [
    "data_file = 'data/636f6a2e-3a48-4801-afce-05c864adc60e-lampy_2019.csv'\n",
    "sid = 'y7e4onsytkb3ydonflz5kcbcigkh5ulo'\n",
    "target = 'pm10'\n",
    "attributes = [target, 'o3', 'pm2p5', 'no2', 'so2']\n",
    "\n",
    "df = data.read_2018_data(data_file).loc[sid, attributes]\n",
    "resampled_df = data.resample_data(df, period='15T')\n",
    "X, y = data.create_dataset(resampled_df)\n",
    "X_tr, X_val, y_tr, y_val = data.train_validation_split(X, y)\n",
    "\n",
    "X_scaler = StandardScaler()\n",
    "y_scaler = StandardScaler()\n",
    "\n",
    "X_tr_scaled = X_scaler.fit_transform(X_tr)\n",
    "X_val_scaled = X_scaler.transform(X_val)\n",
    "\n",
    "y_tr_scaled = y_scaler.fit_transform(y_tr)\n",
    "y_val_scaled = y_scaler.transform(y_val)"
   ]
  },
  {
   "cell_type": "code",
   "execution_count": 3,
   "metadata": {},
   "outputs": [
    {
     "data": {
      "image/png": "[encoded data removed]",
      "text/plain": [
       "<Figure size 432x288 with 2 Axes>"
      ]
     },
     "metadata": {
      "needs_background": "light"
     },
     "output_type": "display_data"
    }
   ],
   "source": [
    "fig, (ax1, ax2) = plt.subplots(ncols=2, sharey=True)\n",
    "ax1.plot(y_tr)\n",
    "ax1.set_ylabel('$\\mathrm{pm}_{10}$')\n",
    "ax1.set_title('train set')\n",
    "ax2.plot(y_val)\n",
    "ax2.set_title('validation set');"
   ]
  },
  {
   "cell_type": "markdown",
   "metadata": {},
   "source": [
    "## Baseline"
   ]
  },
  {
   "cell_type": "code",
   "execution_count": 4,
   "metadata": {},
   "outputs": [
    {
     "name": "stdout",
     "output_type": "stream",
     "text": [
      "baseline RMSE: 8.279020575239366\n"
     ]
    }
   ],
   "source": [
    "y_pred = X_val[:, :1]\n",
    "baseline_rmse = metrics.rmse(y_val, y_pred)\n",
    "print('baseline RMSE:', baseline_rmse)"
   ]
  },
  {
   "cell_type": "code",
   "execution_count": 5,
   "metadata": {},
   "outputs": [
    {
     "name": "stdout",
     "output_type": "stream",
     "text": [
      "baseline train RMSE: 3.6933743519047977\n"
     ]
    }
   ],
   "source": [
    "y_pred = X_tr[:, :1]\n",
    "baseline_tr_rmse = metrics.rmse(y_tr, y_pred)\n",
    "print('baseline train RMSE:', baseline_tr_rmse)"
   ]
  },
  {
   "cell_type": "markdown",
   "metadata": {},
   "source": [
    "## Lineární regrese\n",
    "\n",
    "### Metoda nejmenších čtverců"
   ]
  },
  {
   "cell_type": "code",
   "execution_count": 6,
   "metadata": {},
   "outputs": [
    {
     "name": "stdout",
     "output_type": "stream",
     "text": [
      "linear RMSE: 8.145235410655742\n",
      "coefs: [[ 0.94737406 -0.01311821  0.01457445  0.01365614  0.00155432]]\n"
     ]
    }
   ],
   "source": [
    "linear = linear_model.LinearRegression()\n",
    "linear.fit(X_tr, y_tr)\n",
    "\n",
    "y_pred = linear.predict(X_val)\n",
    "\n",
    "linear_rmse = metrics.rmse(y_val, y_pred)\n",
    "print('linear RMSE:', linear_rmse)\n",
    "\n",
    "print('coefs:', linear.coef_)"
   ]
  },
  {
   "cell_type": "code",
   "execution_count": 7,
   "metadata": {},
   "outputs": [
    {
     "name": "stdout",
     "output_type": "stream",
     "text": [
      "linear train RMSE: 3.640641688055436\n"
     ]
    }
   ],
   "source": [
    "y_pred = linear.predict(X_tr)\n",
    "linear_tr_rmse = metrics.rmse(y_tr, y_pred)\n",
    "print('linear train RMSE:', linear_tr_rmse)"
   ]
  },
  {
   "cell_type": "markdown",
   "metadata": {},
   "source": [
    "### Lasso"
   ]
  },
  {
   "cell_type": "code",
   "execution_count": 8,
   "metadata": {},
   "outputs": [
    {
     "data": {
      "text/html": [
       "<div>\n",
       "<style scoped>\n",
       "    .dataframe tbody tr th:only-of-type {\n",
       "        vertical-align: middle;\n",
       "    }\n",
       "\n",
       "    .dataframe tbody tr th {\n",
       "        vertical-align: top;\n",
       "    }\n",
       "\n",
       "    .dataframe thead th {\n",
       "        text-align: right;\n",
       "    }\n",
       "</style>\n",
       "<table border=\"1\" class=\"dataframe\">\n",
       "  <thead>\n",
       "    <tr style=\"text-align: right;\">\n",
       "      <th></th>\n",
       "      <th>RMSE</th>\n",
       "      <th>coef pm10</th>\n",
       "      <th>coef o3</th>\n",
       "      <th>coef pm2p5</th>\n",
       "      <th>coef no2</th>\n",
       "      <th>coef so2</th>\n",
       "    </tr>\n",
       "  </thead>\n",
       "  <tbody>\n",
       "    <tr>\n",
       "      <th>1.000000e-10</th>\n",
       "      <td>8.145235</td>\n",
       "      <td>0.947370</td>\n",
       "      <td>-0.016698</td>\n",
       "      <td>0.001962</td>\n",
       "      <td>0.019413</td>\n",
       "      <td>0.011029</td>\n",
       "    </tr>\n",
       "    <tr>\n",
       "      <th>3.162278e-10</th>\n",
       "      <td>8.145235</td>\n",
       "      <td>0.947370</td>\n",
       "      <td>-0.016698</td>\n",
       "      <td>0.001962</td>\n",
       "      <td>0.019413</td>\n",
       "      <td>0.011029</td>\n",
       "    </tr>\n",
       "    <tr>\n",
       "      <th>1.000000e-09</th>\n",
       "      <td>8.145235</td>\n",
       "      <td>0.947370</td>\n",
       "      <td>-0.016698</td>\n",
       "      <td>0.001962</td>\n",
       "      <td>0.019413</td>\n",
       "      <td>0.011029</td>\n",
       "    </tr>\n",
       "    <tr>\n",
       "      <th>3.162278e-09</th>\n",
       "      <td>8.145235</td>\n",
       "      <td>0.947370</td>\n",
       "      <td>-0.016698</td>\n",
       "      <td>0.001962</td>\n",
       "      <td>0.019413</td>\n",
       "      <td>0.011029</td>\n",
       "    </tr>\n",
       "    <tr>\n",
       "      <th>1.000000e-08</th>\n",
       "      <td>8.145235</td>\n",
       "      <td>0.947370</td>\n",
       "      <td>-0.016698</td>\n",
       "      <td>0.001962</td>\n",
       "      <td>0.019413</td>\n",
       "      <td>0.011029</td>\n",
       "    </tr>\n",
       "    <tr>\n",
       "      <th>3.162278e-08</th>\n",
       "      <td>8.145236</td>\n",
       "      <td>0.947370</td>\n",
       "      <td>-0.016698</td>\n",
       "      <td>0.001962</td>\n",
       "      <td>0.019413</td>\n",
       "      <td>0.011029</td>\n",
       "    </tr>\n",
       "    <tr>\n",
       "      <th>1.000000e-07</th>\n",
       "      <td>8.145236</td>\n",
       "      <td>0.947371</td>\n",
       "      <td>-0.016698</td>\n",
       "      <td>0.001961</td>\n",
       "      <td>0.019413</td>\n",
       "      <td>0.011029</td>\n",
       "    </tr>\n",
       "    <tr>\n",
       "      <th>3.162278e-07</th>\n",
       "      <td>8.145238</td>\n",
       "      <td>0.947372</td>\n",
       "      <td>-0.016698</td>\n",
       "      <td>0.001960</td>\n",
       "      <td>0.019412</td>\n",
       "      <td>0.011029</td>\n",
       "    </tr>\n",
       "    <tr>\n",
       "      <th>1.000000e-06</th>\n",
       "      <td>8.145244</td>\n",
       "      <td>0.947377</td>\n",
       "      <td>-0.016698</td>\n",
       "      <td>0.001955</td>\n",
       "      <td>0.019411</td>\n",
       "      <td>0.011028</td>\n",
       "    </tr>\n",
       "    <tr>\n",
       "      <th>3.162278e-06</th>\n",
       "      <td>8.145262</td>\n",
       "      <td>0.947391</td>\n",
       "      <td>-0.016697</td>\n",
       "      <td>0.001942</td>\n",
       "      <td>0.019408</td>\n",
       "      <td>0.011024</td>\n",
       "    </tr>\n",
       "    <tr>\n",
       "      <th>1.000000e-05</th>\n",
       "      <td>8.145316</td>\n",
       "      <td>0.947431</td>\n",
       "      <td>-0.016696</td>\n",
       "      <td>0.001901</td>\n",
       "      <td>0.019399</td>\n",
       "      <td>0.011012</td>\n",
       "    </tr>\n",
       "    <tr>\n",
       "      <th>3.162278e-05</th>\n",
       "      <td>8.145543</td>\n",
       "      <td>0.947605</td>\n",
       "      <td>-0.016698</td>\n",
       "      <td>0.001734</td>\n",
       "      <td>0.019368</td>\n",
       "      <td>0.010973</td>\n",
       "    </tr>\n",
       "    <tr>\n",
       "      <th>1.000000e-04</th>\n",
       "      <td>8.145509</td>\n",
       "      <td>0.947563</td>\n",
       "      <td>-0.016628</td>\n",
       "      <td>0.001726</td>\n",
       "      <td>0.019297</td>\n",
       "      <td>0.010857</td>\n",
       "    </tr>\n",
       "    <tr>\n",
       "      <th>3.162278e-04</th>\n",
       "      <td>8.145431</td>\n",
       "      <td>0.947449</td>\n",
       "      <td>-0.016410</td>\n",
       "      <td>0.001684</td>\n",
       "      <td>0.019069</td>\n",
       "      <td>0.010490</td>\n",
       "    </tr>\n",
       "    <tr>\n",
       "      <th>1.000000e-03</th>\n",
       "      <td>8.145235</td>\n",
       "      <td>0.947089</td>\n",
       "      <td>-0.015723</td>\n",
       "      <td>0.001555</td>\n",
       "      <td>0.018349</td>\n",
       "      <td>0.009333</td>\n",
       "    </tr>\n",
       "    <tr>\n",
       "      <th>3.162278e-03</th>\n",
       "      <td>8.145159</td>\n",
       "      <td>0.945944</td>\n",
       "      <td>-0.013543</td>\n",
       "      <td>0.001137</td>\n",
       "      <td>0.016074</td>\n",
       "      <td>0.005669</td>\n",
       "    </tr>\n",
       "    <tr>\n",
       "      <th>1.000000e-02</th>\n",
       "      <td>8.146184</td>\n",
       "      <td>0.942041</td>\n",
       "      <td>-0.007498</td>\n",
       "      <td>0.000479</td>\n",
       "      <td>0.010464</td>\n",
       "      <td>0.000000</td>\n",
       "    </tr>\n",
       "    <tr>\n",
       "      <th>3.162278e-02</th>\n",
       "      <td>8.155653</td>\n",
       "      <td>0.926438</td>\n",
       "      <td>-0.000000</td>\n",
       "      <td>0.000000</td>\n",
       "      <td>0.000000</td>\n",
       "      <td>-0.000000</td>\n",
       "    </tr>\n",
       "    <tr>\n",
       "      <th>1.000000e-01</th>\n",
       "      <td>8.368793</td>\n",
       "      <td>0.858061</td>\n",
       "      <td>-0.000000</td>\n",
       "      <td>0.000000</td>\n",
       "      <td>0.000000</td>\n",
       "      <td>-0.000000</td>\n",
       "    </tr>\n",
       "    <tr>\n",
       "      <th>3.162278e-01</th>\n",
       "      <td>10.745132</td>\n",
       "      <td>0.641833</td>\n",
       "      <td>-0.000000</td>\n",
       "      <td>0.000000</td>\n",
       "      <td>0.000000</td>\n",
       "      <td>-0.000000</td>\n",
       "    </tr>\n",
       "    <tr>\n",
       "      <th>1.000000e+00</th>\n",
       "      <td>23.602857</td>\n",
       "      <td>0.000000</td>\n",
       "      <td>-0.000000</td>\n",
       "      <td>0.000000</td>\n",
       "      <td>0.000000</td>\n",
       "      <td>-0.000000</td>\n",
       "    </tr>\n",
       "    <tr>\n",
       "      <th>3.162278e+00</th>\n",
       "      <td>23.602857</td>\n",
       "      <td>0.000000</td>\n",
       "      <td>-0.000000</td>\n",
       "      <td>0.000000</td>\n",
       "      <td>0.000000</td>\n",
       "      <td>-0.000000</td>\n",
       "    </tr>\n",
       "    <tr>\n",
       "      <th>1.000000e+01</th>\n",
       "      <td>23.602857</td>\n",
       "      <td>0.000000</td>\n",
       "      <td>-0.000000</td>\n",
       "      <td>0.000000</td>\n",
       "      <td>0.000000</td>\n",
       "      <td>-0.000000</td>\n",
       "    </tr>\n",
       "  </tbody>\n",
       "</table>\n",
       "</div>"
      ],
      "text/plain": [
       "                   RMSE  coef pm10   coef o3  coef pm2p5  coef no2  coef so2\n",
       "1.000000e-10   8.145235   0.947370 -0.016698    0.001962  0.019413  0.011029\n",
       "3.162278e-10   8.145235   0.947370 -0.016698    0.001962  0.019413  0.011029\n",
       "1.000000e-09   8.145235   0.947370 -0.016698    0.001962  0.019413  0.011029\n",
       "3.162278e-09   8.145235   0.947370 -0.016698    0.001962  0.019413  0.011029\n",
       "1.000000e-08   8.145235   0.947370 -0.016698    0.001962  0.019413  0.011029\n",
       "3.162278e-08   8.145236   0.947370 -0.016698    0.001962  0.019413  0.011029\n",
       "1.000000e-07   8.145236   0.947371 -0.016698    0.001961  0.019413  0.011029\n",
       "3.162278e-07   8.145238   0.947372 -0.016698    0.001960  0.019412  0.011029\n",
       "1.000000e-06   8.145244   0.947377 -0.016698    0.001955  0.019411  0.011028\n",
       "3.162278e-06   8.145262   0.947391 -0.016697    0.001942  0.019408  0.011024\n",
       "1.000000e-05   8.145316   0.947431 -0.016696    0.001901  0.019399  0.011012\n",
       "3.162278e-05   8.145543   0.947605 -0.016698    0.001734  0.019368  0.010973\n",
       "1.000000e-04   8.145509   0.947563 -0.016628    0.001726  0.019297  0.010857\n",
       "3.162278e-04   8.145431   0.947449 -0.016410    0.001684  0.019069  0.010490\n",
       "1.000000e-03   8.145235   0.947089 -0.015723    0.001555  0.018349  0.009333\n",
       "3.162278e-03   8.145159   0.945944 -0.013543    0.001137  0.016074  0.005669\n",
       "1.000000e-02   8.146184   0.942041 -0.007498    0.000479  0.010464  0.000000\n",
       "3.162278e-02   8.155653   0.926438 -0.000000    0.000000  0.000000 -0.000000\n",
       "1.000000e-01   8.368793   0.858061 -0.000000    0.000000  0.000000 -0.000000\n",
       "3.162278e-01  10.745132   0.641833 -0.000000    0.000000  0.000000 -0.000000\n",
       "1.000000e+00  23.602857   0.000000 -0.000000    0.000000  0.000000 -0.000000\n",
       "3.162278e+00  23.602857   0.000000 -0.000000    0.000000  0.000000 -0.000000\n",
       "1.000000e+01  23.602857   0.000000 -0.000000    0.000000  0.000000 -0.000000"
      ]
     },
     "execution_count": 8,
     "metadata": {},
     "output_type": "execute_result"
    }
   ],
   "source": [
    "n_features = X_tr.shape[1]\n",
    "columns = ['RMSE'] + ['coef ' + attribute for attribute in attributes]\n",
    "\n",
    "n_alphas = 23\n",
    "alphas = np.logspace(-10, 1, n_alphas)\n",
    "lasso_stats = pd.DataFrame(index=alphas, columns=columns, dtype=np.float)\n",
    "\n",
    "for alpha in alphas:\n",
    "    lasso = linear_model.Lasso(alpha=alpha)\n",
    "    lasso.fit(X_tr_scaled, y_tr_scaled)\n",
    "\n",
    "    y_pred_scaled = lasso.predict(X_val_scaled)\n",
    "    \n",
    "    y_pred = y_scaler.inverse_transform(y_pred_scaled)\n",
    "    lasso_rmse = metrics.rmse(y_val, y_pred)\n",
    "    lasso_stats.loc[alpha] = (lasso_rmse, *lasso.coef_)\n",
    "\n",
    "lasso_stats"
   ]
  },
  {
   "cell_type": "code",
   "execution_count": 9,
   "metadata": {},
   "outputs": [
    {
     "data": {
      "image/png": "[encoded data removed]",
      "text/plain": [
       "<Figure size 432x288 with 1 Axes>"
      ]
     },
     "metadata": {
      "needs_background": "light"
     },
     "output_type": "display_data"
    }
   ],
   "source": [
    "lasso_stats.plot(y='RMSE', logx=True, style='.--');"
   ]
  },
  {
   "cell_type": "code",
   "execution_count": 10,
   "metadata": {},
   "outputs": [
    {
     "data": {
      "image/png": "[encoded data removed]",
      "text/plain": [
       "<Figure size 432x288 with 1 Axes>"
      ]
     },
     "metadata": {
      "needs_background": "light"
     },
     "output_type": "display_data"
    }
   ],
   "source": [
    "lasso_stats.plot(y=columns[1:], logx=True, style='.--');"
   ]
  },
  {
   "cell_type": "markdown",
   "metadata": {},
   "source": [
    "## LSTM"
   ]
  },
  {
   "cell_type": "code",
   "execution_count": 11,
   "metadata": {},
   "outputs": [
    {
     "name": "stdout",
     "output_type": "stream",
     "text": [
      "epoch: 1 train loss: 0.6726067784181253 validation loss: 2.4838155394034356\n",
      "epoch: 2 train loss: 0.5225756331473952 validation loss: 2.2997874593779017\n",
      "epoch: 3 train loss: 0.4381071455452377 validation loss: 2.1632140149866528\n",
      "epoch: 4 train loss: 0.3754305643929483 validation loss: 2.0605561691185006\n",
      "epoch: 5 train loss: 0.3349674094038098 validation loss: 1.978078121373027\n",
      "epoch: 6 train loss: 0.30715098187232254 validation loss: 1.9089484679665738\n",
      "epoch: 7 train loss: 0.2851102794474663 validation loss: 1.8482855298282266\n",
      "epoch: 8 train loss: 0.2661022889842963 validation loss: 1.7868242042421076\n",
      "epoch: 9 train loss: 0.24986966585986925 validation loss: 1.752160882551358\n",
      "epoch: 10 train loss: 0.23647241340225153 validation loss: 1.6938893664403436\n",
      "epoch: 11 train loss: 0.22425858436873397 validation loss: 1.6865136900098654\n",
      "epoch: 12 train loss: 0.21581688651524727 validation loss: 1.6287323819782962\n",
      "epoch: 13 train loss: 0.20738808713503099 validation loss: 1.5948539599292015\n",
      "epoch: 14 train loss: 0.1954371422604894 validation loss: 1.5488585008994893\n",
      "epoch: 15 train loss: 0.18589848057700412 validation loss: 1.5285304502524373\n",
      "epoch: 16 train loss: 0.17804292723814455 validation loss: 1.4981544374202065\n",
      "epoch: 17 train loss: 0.1692323807205354 validation loss: 1.4937402978470289\n",
      "epoch: 18 train loss: 0.16317255071456774 validation loss: 1.4485418661501857\n",
      "epoch: 19 train loss: 0.15666452388252655 validation loss: 1.4616074699323933\n",
      "epoch: 20 train loss: 0.15367659876210635 validation loss: 1.3961950105544916\n",
      "epoch: 21 train loss: 0.14840214702101273 validation loss: 1.4158315561165273\n",
      "epoch: 22 train loss: 0.14125696382562625 validation loss: 1.3348506548499883\n",
      "epoch: 23 train loss: 0.13116611253339916 validation loss: 1.3289663444101092\n",
      "epoch: 24 train loss: 0.12428694245790889 validation loss: 1.2974977059395312\n",
      "epoch: 25 train loss: 0.11803451751272864 validation loss: 1.3021328641843664\n",
      "epoch: 26 train loss: 0.11685782389340191 validation loss: 1.274549507275708\n",
      "epoch: 27 train loss: 0.11814586379914206 validation loss: 1.2820410201587162\n",
      "epoch: 28 train loss: 0.1284138583399256 validation loss: 1.2983231823424444\n",
      "epoch: 29 train loss: 0.12614195915457949 validation loss: 1.2280442318433729\n",
      "epoch: 30 train loss: 0.11624109916868974 validation loss: 1.2199524549167247\n",
      "epoch: 31 train loss: 0.10422226958737876 validation loss: 1.1766257680115484\n",
      "epoch: 32 train loss: 0.09345198807220645 validation loss: 1.1700634402927692\n",
      "epoch: 33 train loss: 0.08705348499093336 validation loss: 1.1679565089658774\n",
      "epoch: 34 train loss: 0.08210758214132148 validation loss: 1.1612379947191271\n",
      "epoch: 35 train loss: 0.08019074054453273 validation loss: 1.1575701048557916\n",
      "epoch: 36 train loss: 0.08076313627599072 validation loss: 1.1672053855109679\n",
      "epoch: 37 train loss: 0.07690313728868116 validation loss: 1.138681509147226\n",
      "epoch: 38 train loss: 0.07357729574794072 validation loss: 1.2007925162851092\n",
      "epoch: 39 train loss: 0.07636984027100557 validation loss: 1.08953273705896\n",
      "epoch: 40 train loss: 0.08646334071432306 validation loss: 1.0748967672788998\n",
      "epoch: 41 train loss: 0.07365130205777622 validation loss: 1.0926828765160748\n",
      "epoch: 42 train loss: 0.06528329234981063 validation loss: 1.0995233477324164\n",
      "epoch: 43 train loss: 0.06939881314900263 validation loss: 1.1094245308510329\n",
      "epoch: 44 train loss: 0.06442688509683518 validation loss: 1.122521190590181\n",
      "epoch: 45 train loss: 0.05942530486077607 validation loss: 1.0760991088527159\n",
      "epoch: 46 train loss: 0.06040995737588551 validation loss: 1.1280600318448235\n",
      "epoch: 47 train loss: 0.060436620022312405 validation loss: 1.0531960206664925\n",
      "epoch: 48 train loss: 0.0645535523931318 validation loss: 1.0341820677010793\n",
      "epoch: 49 train loss: 0.0530760499171197 validation loss: 1.050232783665564\n",
      "epoch: 50 train loss: 0.04881836221938779 validation loss: 1.0526245457216226\n"
     ]
    }
   ],
   "source": [
    "lstm = LSTM(input_size=5, hidden_size=64, output_size=1)\n",
    "lstm_stats = lstm.train(X_tr_scaled, y_tr_scaled, X_val_scaled, y_val_scaled,\n",
    "                        n_epochs=50, seq_len=100)"
   ]
  },
  {
   "cell_type": "code",
   "execution_count": 12,
   "metadata": {},
   "outputs": [
    {
     "data": {
      "image/png": "[encoded data removed]",
      "text/plain": [
       "<Figure size 432x288 with 1 Axes>"
      ]
     },
     "metadata": {
      "needs_background": "light"
     },
     "output_type": "display_data"
    }
   ],
   "source": [
    "ax = plt.axes()\n",
    "ax.plot(lstm_stats['tr_losses'], label='train loss')\n",
    "ax.plot(lstm_stats['val_losses'], label='validation loss')\n",
    "ax.set_xlabel('epoch')\n",
    "ax.set_ylabel('MSE loss')\n",
    "ax.legend();"
   ]
  },
  {
   "cell_type": "code",
   "execution_count": 13,
   "metadata": {},
   "outputs": [
    {
     "data": {
      "text/plain": [
       "13.083882760997426"
      ]
     },
     "execution_count": 13,
     "metadata": {},
     "output_type": "execute_result"
    }
   ],
   "source": [
    "y_pred_scaled = lstm.predict(X_val_scaled)\n",
    "y_pred = y_scaler.inverse_transform(y_pred_scaled)\n",
    "lstm_rmse = metrics.rmse(y_val, y_pred)\n",
    "lstm_rmse"
   ]
  },
  {
   "cell_type": "code",
   "execution_count": 14,
   "metadata": {},
   "outputs": [
    {
     "data": {
      "text/plain": [
       "2.928321503232652"
      ]
     },
     "execution_count": 14,
     "metadata": {},
     "output_type": "execute_result"
    }
   ],
   "source": [
    "y_pred_scaled = lstm.predict(X_tr_scaled)\n",
    "y_pred = y_scaler.inverse_transform(y_pred_scaled)\n",
    "lstm_tr_rmse = metrics.rmse(y_tr, y_pred)\n",
    "lstm_tr_rmse"
   ]
  },
  {
   "cell_type": "markdown",
   "metadata": {},
   "source": [
    "## Results"
   ]
  },
  {
   "cell_type": "code",
   "execution_count": 15,
   "metadata": {},
   "outputs": [
    {
     "name": "stdout",
     "output_type": "stream",
     "text": [
      "baseline RMSE: 8.279020575239366\n",
      "linear RMSE:   8.145235410655742\n",
      "LSTM RMSE:     13.083882760997426\n"
     ]
    }
   ],
   "source": [
    "# lasso show that other parameters are linearly unimportant\n",
    "print('baseline RMSE:', baseline_rmse)\n",
    "print('linear RMSE:  ', linear_rmse)\n",
    "print('LSTM RMSE:    ', lstm_rmse)"
   ]
  },
  {
   "cell_type": "code",
   "execution_count": 16,
   "metadata": {},
   "outputs": [
    {
     "name": "stdout",
     "output_type": "stream",
     "text": [
      "baseline train RMSE: 3.6933743519047977\n",
      "linear train RMSE:   3.640641688055436\n",
      "LSTM train RMSE:     2.928321503232652\n"
     ]
    }
   ],
   "source": [
    "print('baseline train RMSE:', baseline_tr_rmse)\n",
    "print('linear train RMSE:  ', linear_tr_rmse)\n",
    "print('LSTM train RMSE:    ', lstm_tr_rmse)"
   ]
  }
 ],
 "metadata": {
  "kernelspec": {
   "display_name": "Python 3",
   "language": "python",
   "name": "python3"
  },
  "language_info": {
   "codemirror_mode": {
    "name": "ipython",
    "version": 3
   },
   "file_extension": ".py",
   "mimetype": "text/x-python",
   "name": "python",
   "nbconvert_exporter": "python",
   "pygments_lexer": "ipython3",
   "version": "3.7.3"
  }
 },
 "nbformat": 4,
 "nbformat_minor": 2
}
