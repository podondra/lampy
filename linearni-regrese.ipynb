{
 "cells": [
  {
   "cell_type": "code",
   "execution_count": 1,
   "metadata": {},
   "outputs": [],
   "source": [
    "import matplotlib.pyplot as plt\n",
    "import numpy as np\n",
    "import pandas as pd\n",
    "from sklearn import linear_model\n",
    "from sklearn.preprocessing import StandardScaler\n",
    "\n",
    "from lampy import data\n",
    "from lampy import metrics"
   ]
  },
  {
   "cell_type": "code",
   "execution_count": 2,
   "metadata": {},
   "outputs": [],
   "source": [
    "%matplotlib inline\n",
    "plt.rc('text', usetex=True)\n",
    "plt.rc('font', family='serif')"
   ]
  },
  {
   "cell_type": "code",
   "execution_count": 3,
   "metadata": {},
   "outputs": [],
   "source": [
    "data_file = 'data/636f6a2e-3a48-4801-afce-05c864adc60e-lampy_2019.csv'\n",
    "sid = 'y7e4onsytkb3ydonflz5kcbcigkh5ulo'\n",
    "target = 'pm10'\n",
    "attributes = [target, 'o3', 'pm2p5', 'no2', 'so2']\n",
    "\n",
    "df = data.read_2018_data(data_file).loc[sid, attributes]\n",
    "resampled_df = data.resample_data(df)\n",
    "X, y = data.create_dataset(resampled_df)\n",
    "X_tr, X_val, y_tr, y_val = data.train_validation_split(X, y)"
   ]
  },
  {
   "cell_type": "code",
   "execution_count": 4,
   "metadata": {},
   "outputs": [],
   "source": [
    "def transform_dataset(X, y, window):\n",
    "    n_rows, n_features = X.shape\n",
    "    new_X = np.zeros((n_rows, window * n_features))\n",
    "    new_X[:, :n_features] = X\n",
    "    for idx in range(1, window):\n",
    "        start = n_features * idx\n",
    "        end = n_features * (idx + 1)\n",
    "        new_X[idx:, start:end] = X[:-idx]\n",
    "    return new_X[(window - 1):], y.copy()[(window - 1):]"
   ]
  },
  {
   "cell_type": "code",
   "execution_count": 5,
   "metadata": {
    "scrolled": false
   },
   "outputs": [
    {
     "name": "stdout",
     "output_type": "stream",
     "text": [
      "window: 1 linear RMSE: 8.145235410655742\n",
      "window: 2 linear RMSE: 8.122515312541152\n",
      "window: 3 linear RMSE: 8.78027342676847\n",
      "window: 4 linear RMSE: 8.835495638731482\n",
      "window: 5 linear RMSE: 9.541200365849472\n",
      "window: 6 linear RMSE: 9.431053529180069\n",
      "window: 7 linear RMSE: 9.108941947952427\n",
      "window: 8 linear RMSE: 9.117424223978361\n",
      "window: 9 linear RMSE: 9.06936523252595\n",
      "window: 10 linear RMSE: 9.054595877625369\n",
      "window: 11 linear RMSE: 8.837288005024213\n",
      "window: 12 linear RMSE: 8.842808284677217\n",
      "window: 13 linear RMSE: 8.922473773539323\n",
      "window: 14 linear RMSE: 8.907601144683643\n",
      "window: 15 linear RMSE: 8.885296066315561\n",
      "window: 16 linear RMSE: 8.894585222253413\n",
      "window: 17 linear RMSE: 8.865232668985977\n",
      "window: 18 linear RMSE: 8.861365513795032\n",
      "window: 19 linear RMSE: 8.89708645489496\n",
      "window: 20 linear RMSE: 8.892439288222372\n",
      "window: 21 linear RMSE: 8.877838117691873\n",
      "window: 22 linear RMSE: 8.879739018467792\n",
      "window: 23 linear RMSE: 8.878134765887278\n",
      "window: 24 linear RMSE: 8.874138504373498\n",
      "window: 25 linear RMSE: 8.881867503928229\n",
      "window: 26 linear RMSE: 8.879966597354269\n",
      "window: 27 linear RMSE: 8.873933831646337\n",
      "window: 28 linear RMSE: 8.873869126086529\n",
      "window: 29 linear RMSE: 8.87909458159854\n",
      "window: 30 linear RMSE: 8.878914681895646\n",
      "window: 31 linear RMSE: 8.870276912258873\n",
      "window: 32 linear RMSE: 8.870871155051752\n",
      "window: 33 linear RMSE: 8.874140723538464\n",
      "window: 34 linear RMSE: 8.875227316928072\n",
      "window: 35 linear RMSE: 8.87021491384114\n",
      "window: 36 linear RMSE: 8.87011951738799\n",
      "window: 37 linear RMSE: 8.864270486626923\n",
      "window: 38 linear RMSE: 8.865292087926953\n",
      "window: 39 linear RMSE: 8.87076103550921\n",
      "window: 40 linear RMSE: 8.870565131819859\n",
      "window: 41 linear RMSE: 8.872020192859424\n",
      "window: 42 linear RMSE: 8.873374016957428\n",
      "window: 43 linear RMSE: 8.867878924760907\n",
      "window: 44 linear RMSE: 8.867622097338334\n",
      "window: 45 linear RMSE: 8.870228457255395\n",
      "window: 46 linear RMSE: 8.86977523616424\n",
      "window: 47 linear RMSE: 8.87339751990004\n",
      "window: 48 linear RMSE: 8.874353486037233\n"
     ]
    }
   ],
   "source": [
    "for window in range(1, 49):\n",
    "    X_tr_trans, y_tr_trans = transform_dataset(X_tr, y_tr, window)\n",
    "    X_val_trans, y_val_trans = transform_dataset(X_val, y_val, window)\n",
    "\n",
    "    linear = linear_model.LinearRegression()\n",
    "    linear.fit(X_tr_trans, y_tr_trans)\n",
    "\n",
    "    y_pred_trans = linear.predict(X_val_trans)\n",
    "\n",
    "    linear_rmse = metrics.rmse(y_val_trans, y_pred_trans)\n",
    "    print('window:', window, 'linear RMSE:', linear_rmse)"
   ]
  }
 ],
 "metadata": {
  "kernelspec": {
   "display_name": "Python 3",
   "language": "python",
   "name": "python3"
  },
  "language_info": {
   "codemirror_mode": {
    "name": "ipython",
    "version": 3
   },
   "file_extension": ".py",
   "mimetype": "text/x-python",
   "name": "python",
   "nbconvert_exporter": "python",
   "pygments_lexer": "ipython3",
   "version": "3.6.7"
  }
 },
 "nbformat": 4,
 "nbformat_minor": 2
}
