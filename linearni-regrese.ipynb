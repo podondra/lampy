{
 "cells": [
  {
   "cell_type": "code",
   "execution_count": 1,
   "metadata": {},
   "outputs": [],
   "source": [
    "import matplotlib.pyplot as plt\n",
    "import numpy as np\n",
    "import pandas as pd\n",
    "from sklearn import linear_model\n",
    "from sklearn.preprocessing import StandardScaler\n",
    "\n",
    "from lampy import data\n",
    "from lampy import metrics"
   ]
  },
  {
   "cell_type": "code",
   "execution_count": 2,
   "metadata": {},
   "outputs": [],
   "source": [
    "data_file = 'data/636f6a2e-3a48-4801-afce-05c864adc60e-lampy_2019.csv'\n",
    "sid = 'y7e4onsytkb3ydonflz5kcbcigkh5ulo'\n",
    "target = 'pm10'\n",
    "attributes = [target, 'o3', 'pm2p5', 'no2', 'so2']\n",
    "\n",
    "df = data.read_2018_data(data_file).loc[sid, attributes]\n",
    "resampled_df = data.resample_data(df)\n",
    "X, y = data.create_dataset(resampled_df)\n",
    "X_tr, X_val, y_tr, y_val = data.train_validation_split(X, y)\n",
    "\n",
    "X_scaler = StandardScaler()\n",
    "y_scaler = StandardScaler()\n",
    "\n",
    "X_tr = X_scaler.fit_transform(X_tr)\n",
    "X_val = X_scaler.transform(X_val)\n",
    "\n",
    "y_tr = y_scaler.fit_transform(y_tr)\n",
    "y_val = y_scaler.transform(y_val)"
   ]
  },
  {
   "cell_type": "code",
   "execution_count": 3,
   "metadata": {},
   "outputs": [
    {
     "data": {
      "text/html": [
       "<div>\n",
       "<style scoped>\n",
       "    .dataframe tbody tr th:only-of-type {\n",
       "        vertical-align: middle;\n",
       "    }\n",
       "\n",
       "    .dataframe tbody tr th {\n",
       "        vertical-align: top;\n",
       "    }\n",
       "\n",
       "    .dataframe thead th {\n",
       "        text-align: right;\n",
       "    }\n",
       "</style>\n",
       "<table border=\"1\" class=\"dataframe\">\n",
       "  <thead>\n",
       "    <tr style=\"text-align: right;\">\n",
       "      <th></th>\n",
       "      <th>RMSE</th>\n",
       "    </tr>\n",
       "    <tr>\n",
       "      <th>window</th>\n",
       "      <th></th>\n",
       "    </tr>\n",
       "  </thead>\n",
       "  <tbody>\n",
       "    <tr>\n",
       "      <th>2</th>\n",
       "      <td>0.636928</td>\n",
       "    </tr>\n",
       "  </tbody>\n",
       "</table>\n",
       "</div>"
      ],
      "text/plain": [
       "            RMSE\n",
       "window          \n",
       "2       0.636928"
      ]
     },
     "execution_count": 3,
     "metadata": {},
     "output_type": "execute_result"
    }
   ],
   "source": [
    "windows = list(range(1, 100))\n",
    "linear_stats = pd.DataFrame(index=windows, columns=['RMSE'], dtype=np.float)\n",
    "linear_stats.index.name='window'\n",
    "\n",
    "for window in windows:\n",
    "    X_tr_trans, y_tr_trans = data.transform_dataset(X_tr, y_tr, window)\n",
    "    X_val_trans, y_val_trans = data.transform_dataset(X_val, y_val, window)\n",
    "\n",
    "    linear = linear_model.LinearRegression()\n",
    "    linear.fit(X_tr_trans, y_tr_trans)\n",
    "\n",
    "    y_pred_trans = linear.predict(X_val_trans)\n",
    "\n",
    "    linear_stats.loc[window] = metrics.rmse(y_val_trans, y_pred_trans)\n",
    "\n",
    "linear_stats.loc[linear_stats.idxmin()]"
   ]
  },
  {
   "cell_type": "code",
   "execution_count": 4,
   "metadata": {},
   "outputs": [
    {
     "data": {
      "image/png": "[encoded data removed]",
      "text/plain": [
       "<Figure size 432x288 with 1 Axes>"
      ]
     },
     "metadata": {
      "needs_background": "light"
     },
     "output_type": "display_data"
    }
   ],
   "source": [
    "linear_stats.plot(style='.--');"
   ]
  }
 ],
 "metadata": {
  "kernelspec": {
   "display_name": "Python 3",
   "language": "python",
   "name": "python3"
  },
  "language_info": {
   "codemirror_mode": {
    "name": "ipython",
    "version": 3
   },
   "file_extension": ".py",
   "mimetype": "text/x-python",
   "name": "python",
   "nbconvert_exporter": "python",
   "pygments_lexer": "ipython3",
   "version": "3.7.3"
  }
 },
 "nbformat": 4,
 "nbformat_minor": 2
}
