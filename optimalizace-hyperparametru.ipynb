{
 "cells": [
  {
   "cell_type": "code",
   "execution_count": 1,
   "metadata": {},
   "outputs": [],
   "source": [
    "from sklearn.model_selection import ParameterSampler\n",
    "from sklearn.preprocessing import StandardScaler\n",
    "\n",
    "from lampy import data\n",
    "from lampy import metrics\n",
    "from lampy.lstm import LSTM"
   ]
  },
  {
   "cell_type": "code",
   "execution_count": 2,
   "metadata": {},
   "outputs": [],
   "source": [
    "data_file = 'data/636f6a2e-3a48-4801-afce-05c864adc60e-lampy_2019.csv'\n",
    "sid = 'y7e4onsytkb3ydonflz5kcbcigkh5ulo'\n",
    "target = 'pm10'\n",
    "attributes = [target, 'o3', 'pm2p5', 'no2', 'so2']\n",
    "\n",
    "df = data.read_2018_data(data_file).loc[sid, attributes]\n",
    "resampled_df = data.resample_data(df, period='15T')\n",
    "X, y = data.create_dataset(resampled_df)\n",
    "X_tr, X_val, y_tr, y_val = data.train_validation_split(X, y)\n",
    "\n",
    "X_scaler = StandardScaler()\n",
    "y_scaler = StandardScaler()\n",
    "\n",
    "X_tr_scaled = X_scaler.fit_transform(X_tr)\n",
    "X_val_scaled = X_scaler.transform(X_val)\n",
    "\n",
    "y_tr_scaled = y_scaler.fit_transform(y_tr)\n",
    "y_val_scaled = y_scaler.transform(y_val)"
   ]
  },
  {
   "cell_type": "code",
   "execution_count": 3,
   "metadata": {},
   "outputs": [
    {
     "data": {
      "text/plain": [
       "[{'seq_len': 180, 'num_layers': 1, 'hidden_size': 16},\n",
       " {'seq_len': 101, 'num_layers': 1, 'hidden_size': 32},\n",
       " {'seq_len': 143, 'num_layers': 3, 'hidden_size': 256},\n",
       " {'seq_len': 164, 'num_layers': 1, 'hidden_size': 128},\n",
       " {'seq_len': 74, 'num_layers': 3, 'hidden_size': 16},\n",
       " {'seq_len': 173, 'num_layers': 3, 'hidden_size': 128},\n",
       " {'seq_len': 95, 'num_layers': 2, 'hidden_size': 32},\n",
       " {'seq_len': 108, 'num_layers': 1, 'hidden_size': 256},\n",
       " {'seq_len': 85, 'num_layers': 1, 'hidden_size': 256},\n",
       " {'seq_len': 169, 'num_layers': 1, 'hidden_size': 64},\n",
       " {'seq_len': 28, 'num_layers': 2, 'hidden_size': 32},\n",
       " {'seq_len': 140, 'num_layers': 3, 'hidden_size': 128},\n",
       " {'seq_len': 129, 'num_layers': 1, 'hidden_size': 32},\n",
       " {'seq_len': 185, 'num_layers': 3, 'hidden_size': 256},\n",
       " {'seq_len': 161, 'num_layers': 3, 'hidden_size': 128},\n",
       " {'seq_len': 65, 'num_layers': 2, 'hidden_size': 32},\n",
       " {'seq_len': 84, 'num_layers': 2, 'hidden_size': 32},\n",
       " {'seq_len': 76, 'num_layers': 1, 'hidden_size': 128},\n",
       " {'seq_len': 62, 'num_layers': 3, 'hidden_size': 8},\n",
       " {'seq_len': 169, 'num_layers': 3, 'hidden_size': 32},\n",
       " {'seq_len': 183, 'num_layers': 2, 'hidden_size': 32},\n",
       " {'seq_len': 134, 'num_layers': 2, 'hidden_size': 8},\n",
       " {'seq_len': 171, 'num_layers': 3, 'hidden_size': 16},\n",
       " {'seq_len': 177, 'num_layers': 1, 'hidden_size': 256},\n",
       " {'seq_len': 175, 'num_layers': 2, 'hidden_size': 8},\n",
       " {'seq_len': 159, 'num_layers': 1, 'hidden_size': 8},\n",
       " {'seq_len': 67, 'num_layers': 3, 'hidden_size': 8},\n",
       " {'seq_len': 75, 'num_layers': 3, 'hidden_size': 128},\n",
       " {'seq_len': 199, 'num_layers': 1, 'hidden_size': 256},\n",
       " {'seq_len': 108, 'num_layers': 2, 'hidden_size': 16}]"
      ]
     },
     "execution_count": 3,
     "metadata": {},
     "output_type": "execute_result"
    }
   ],
   "source": [
    "params_grid = {'hidden_size': [8, 16, 32, 64, 128, 256],\n",
    "              'seq_len': list(range(2, 200)),\n",
    "              'num_layers': [1, 2, 3]}\n",
    "\n",
    "params_list = list(ParameterSampler(params_grid, n_iter=30))\n",
    "params_list"
   ]
  },
  {
   "cell_type": "code",
   "execution_count": 4,
   "metadata": {},
   "outputs": [],
   "source": [
    "#for params in params_list:\n",
    "#    lstm = LSTM(input_size=5,\n",
    "#                hidden_size=params['hidden_size'],\n",
    "#                output_size=1,\n",
    "#                num_layers=params['num_layers'])\n",
    "#    lstm_stats = lstm.train(X_tr_scaled, y_tr_scaled, X_val_scaled, y_val_scaled,\n",
    "#                            n_epochs=50, seq_len=params['seq_len'],\n",
    "#                            verbose=False)\n",
    "#    y_pred_scaled = lstm.predict(X_val_scaled)\n",
    "#    y_pred = y_scaler.inverse_transform(y_pred_scaled)\n",
    "#    val_rmse = metrics.rmse(y_val, y_pred)\n",
    "#    y_pred_scaled = lstm.predict(X_tr_scaled)\n",
    "#    y_pred = y_scaler.inverse_transform(y_pred_scaled)\n",
    "#    tr_rmse = metrics.rmse(y_tr, y_pred)\n",
    "#    print('train RMSE:\\t', tr_rmse,\n",
    "#          '\\tvalidation RMSE:\\t',\n",
    "#          val_rmse, '\\tparams:', params)"
   ]
  }
 ],
 "metadata": {
  "kernelspec": {
   "display_name": "Python 3",
   "language": "python",
   "name": "python3"
  },
  "language_info": {
   "codemirror_mode": {
    "name": "ipython",
    "version": 3
   },
   "file_extension": ".py",
   "mimetype": "text/x-python",
   "name": "python",
   "nbconvert_exporter": "python",
   "pygments_lexer": "ipython3",
   "version": "3.7.3"
  }
 },
 "nbformat": 4,
 "nbformat_minor": 2
}
